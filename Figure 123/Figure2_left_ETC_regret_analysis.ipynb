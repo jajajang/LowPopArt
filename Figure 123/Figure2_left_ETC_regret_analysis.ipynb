{
 "cells": [
  {
   "cell_type": "code",
   "execution_count": 2,
   "id": "47e55dae-eb60-45ff-ba27-ea3c1f35abd9",
   "metadata": {},
   "outputs": [],
   "source": [
    "from functools import wraps\n",
    "from typing import List, Tuple\n",
    "import mosek\n",
    "import numpy as np\n",
    "import scipy.sparse as sp\n",
    "from numpy import linalg as LA\n",
    "import cvxpy as cp\n",
    "import argparse\n",
    "\n",
    "from cvxpy.atoms import bmat, reshape, trace, upper_tri\n",
    "from cvxpy.constraints.psd import PSD\n",
    "from cvxpy.expressions.variable import Variable\n",
    "from cvxpy.atoms.atom import Atom\n",
    "from cvxpy.atoms.quad_form import QuadForm\n",
    "from cvxpy.constraints.constraint import Constraint"
   ]
  },
  {
   "cell_type": "code",
   "execution_count": 3,
   "id": "7a746d81-ffb9-4f43-8c63-50a585d739a1",
   "metadata": {},
   "outputs": [],
   "source": [
    "import sys\n",
    "sys.argv = ['']"
   ]
  },
  {
   "cell_type": "code",
   "execution_count": 4,
   "id": "669c29fc-fe08-47e2-a35b-e0e728ecfe87",
   "metadata": {},
   "outputs": [],
   "source": [
    "parser = argparse.ArgumentParser()\n",
    "parser.add_argument(\"--d1\", type=int, help=\"row dimension of the action matrix\", default=5)\n",
    "parser.add_argument(\"--d2\", type=int, help=\"column dimension of the action matrix\", default=5)\n",
    "parser.add_argument(\"--r\", type=int, help=\"rank of the hidden matrix\", default=1)\n",
    "parser.add_argument(\"--same\", type=bool, help='Whether we should use equal strategy which is ours', default=False)\n",
    "parser.add_argument(\"--repeat\",type=int, help='How many times it will repeat for each experiment setting', default=30)\n",
    "parser.add_argument(\"--T0\",type=int, help='Length of experiment to examine', default=100000)\n",
    "parser.add_argument(\"--sigma\",type=float, help='Variance', default=1)\n",
    "parser.add_argument(\"--delta\",type=float, help='Error probability in bandit', default=0.05)\n",
    "parser.add_argument(\"--action_set\", help='which action will I use - \\'hard\\' is Case 1 in the figure, and \\'uniform\\' is the Case 2 in the figure', default='hard')\n",
    "parser.add_argument(\"--num_of_action_set\", type=int, help='Number of actions in the action set in Case 2. Case 1 has fixed number of actions', default=100),\n",
    "parser.add_argument(\"--cheat\", type=float, help='theta_0 = cheat * theta', default=0)\n",
    "args = parser.parse_args()\n",
    "\n",
    "\n",
    "\n",
    "# functions for the optimization of lasso. Basically cvxpy format functions.\n",
    "def loss_fn(X, Y, beta):\n",
    "    return cp.norm2(X @ beta - Y) ** 2\n",
    "\n",
    "def regularizer(beta,d1,d2):\n",
    "    return cp.norm(cp.reshape(beta, (d1,d2)), 'nuc')\n",
    "\n",
    "def objective_fn(X, Y, beta, lambd, d1, d2):\n",
    "    return loss_fn(X, Y, beta) + lambd * regularizer(beta,d1,d2)"
   ]
  },
  {
   "cell_type": "code",
   "execution_count": 5,
   "id": "928aabbc-a92f-4f91-8f49-eff09b9efc64",
   "metadata": {},
   "outputs": [
    {
     "name": "stdout",
     "output_type": "stream",
     "text": [
      "===============================================================================\n",
      "                                     CVXPY                                     \n",
      "                                     v1.3.2                                    \n",
      "===============================================================================\n",
      "(CVXPY) Oct 17 01:02:15 AM: Your problem has 100 variables, 1 constraints, and 0 parameters.\n",
      "(CVXPY) Oct 17 01:02:15 AM: It is compliant with the following grammars: DCP, DQCP\n",
      "(CVXPY) Oct 17 01:02:15 AM: (If you need to solve this problem multiple times, but with different data, consider using parameters.)\n",
      "(CVXPY) Oct 17 01:02:15 AM: CVXPY will first compile your problem; then, it will invoke a numerical solver to obtain a solution.\n",
      "-------------------------------------------------------------------------------\n",
      "                                  Compilation                                  \n",
      "-------------------------------------------------------------------------------\n",
      "(CVXPY) Oct 17 01:02:15 AM: Compiling problem (target solver=MOSEK).\n",
      "(CVXPY) Oct 17 01:02:15 AM: Reduction chain: FlipObjective -> Dcp2Cone -> CvxAttr2Constr -> ConeMatrixStuffing -> MOSEK\n",
      "(CVXPY) Oct 17 01:02:15 AM: Applying reduction FlipObjective\n",
      "(CVXPY) Oct 17 01:02:15 AM: Applying reduction Dcp2Cone\n",
      "(CVXPY) Oct 17 01:02:15 AM: Applying reduction CvxAttr2Constr\n",
      "(CVXPY) Oct 17 01:02:15 AM: Applying reduction ConeMatrixStuffing\n",
      "(CVXPY) Oct 17 01:02:15 AM: Applying reduction MOSEK\n",
      "(CVXPY) Oct 17 01:02:15 AM: Finished problem compilation (took 5.603e-02 seconds).\n",
      "-------------------------------------------------------------------------------\n",
      "                                Numerical solver                               \n",
      "-------------------------------------------------------------------------------\n",
      "(CVXPY) Oct 17 01:02:15 AM: Invoking solver MOSEK  to obtain a solution.\n",
      "\n",
      "\n",
      "(CVXPY) Oct 17 01:02:15 AM: Problem\n",
      "(CVXPY) Oct 17 01:02:15 AM:   Name                   :                 \n",
      "(CVXPY) Oct 17 01:02:15 AM:   Objective sense        : maximize        \n",
      "(CVXPY) Oct 17 01:02:15 AM:   Type                   : CONIC (conic optimization problem)\n",
      "(CVXPY) Oct 17 01:02:15 AM:   Constraints            : 101             \n",
      "(CVXPY) Oct 17 01:02:15 AM:   Affine conic cons.     : 0               \n",
      "(CVXPY) Oct 17 01:02:15 AM:   Disjunctive cons.      : 0               \n",
      "(CVXPY) Oct 17 01:02:15 AM:   Cones                  : 0               \n",
      "(CVXPY) Oct 17 01:02:15 AM:   Scalar variables       : 401             \n",
      "(CVXPY) Oct 17 01:02:15 AM:   Matrix variables       : 1 (scalarized: 325)\n",
      "(CVXPY) Oct 17 01:02:15 AM:   Integer variables      : 0               \n",
      "(CVXPY) Oct 17 01:02:15 AM: \n",
      "(CVXPY) Oct 17 01:02:15 AM: Optimizer started.\n",
      "(CVXPY) Oct 17 01:02:15 AM: Presolve started.\n",
      "(CVXPY) Oct 17 01:02:15 AM: Linear dependency checker started.\n",
      "(CVXPY) Oct 17 01:02:15 AM: Linear dependency checker terminated.\n",
      "(CVXPY) Oct 17 01:02:15 AM: Eliminator started.\n",
      "(CVXPY) Oct 17 01:02:15 AM: Freed constraints in eliminator : 0\n",
      "(CVXPY) Oct 17 01:02:15 AM: Eliminator terminated.\n",
      "(CVXPY) Oct 17 01:02:15 AM: Eliminator started.\n",
      "(CVXPY) Oct 17 01:02:15 AM: Freed constraints in eliminator : 0\n",
      "(CVXPY) Oct 17 01:02:15 AM: Eliminator terminated.\n",
      "(CVXPY) Oct 17 01:02:15 AM: Eliminator - tries                  : 2                 time                   : 0.00            \n",
      "(CVXPY) Oct 17 01:02:15 AM: Lin. dep.  - tries                  : 1                 time                   : 0.00            \n",
      "(CVXPY) Oct 17 01:02:15 AM: Lin. dep.  - primal attempts        : 1                 successes              : 1               \n",
      "(CVXPY) Oct 17 01:02:15 AM: Lin. dep.  - dual attempts          : 0                 successes              : 0               \n",
      "(CVXPY) Oct 17 01:02:15 AM: Lin. dep.  - primal deps.           : 0                 dual deps.             : 0               \n",
      "(CVXPY) Oct 17 01:02:15 AM: Presolve terminated. Time: 0.00    \n",
      "(CVXPY) Oct 17 01:02:15 AM: Optimizer  - threads                : 12              \n",
      "(CVXPY) Oct 17 01:02:15 AM: Optimizer  - solved problem         : \n",
      "(CVXPY) Oct 17 01:02:15 AM: the primal      \n",
      "(CVXPY) Oct 17 01:02:15 AM: \n",
      "(CVXPY) Oct 17 01:02:15 AM: Optimizer  - Constraints            : 101             \n",
      "(CVXPY) Oct 17 01:02:15 AM: Optimizer  - Cones                  : 1               \n",
      "(CVXPY) Oct 17 01:02:15 AM: Optimizer  - Scalar variables       : 102               conic                  : 2               \n",
      "(CVXPY) Oct 17 01:02:15 AM: Optimizer  - Semi-definite variables: 1                 scalarized             : 325             \n",
      "(CVXPY) Oct 17 01:02:15 AM: Factor     - setup time             : 0.00            \n",
      "(CVXPY) Oct 17 01:02:15 AM: Factor     - dense det. time        : 0.00              GP order time          : 0.00            \n",
      "(CVXPY) Oct 17 01:02:15 AM: Factor     - nonzeros before factor : 5151              after factor           : 5151            \n",
      "(CVXPY) Oct 17 01:02:15 AM: Factor     - dense dim.             : 0                 flops                  : 8.44e+06        \n",
      "(CVXPY) Oct 17 01:02:15 AM: ITE PFEAS    DFEAS    GFEAS    PRSTATUS   POBJ              DOBJ              MU       TIME  \n",
      "(CVXPY) Oct 17 01:02:15 AM: 0   2.4e+01  1.0e+00  1.0e+00  0.00e+00   -0.000000000e+00  -0.000000000e+00  1.0e+00  0.01  \n",
      "(CVXPY) Oct 17 01:02:15 AM: 1   1.1e+01  4.5e-01  3.2e-02  4.55e+00   -7.107694971e-02  -3.113374753e-02  4.5e-01  0.01  \n",
      "(CVXPY) Oct 17 01:02:15 AM: 2   2.9e+00  1.2e-01  1.8e-03  4.30e+00   -2.118537733e-02  -1.701427098e-02  1.2e-01  0.01  \n",
      "(CVXPY) Oct 17 01:02:15 AM: 3   5.7e-01  2.4e-02  1.3e-04  1.35e+00   -1.853780895e-02  -1.782864705e-02  2.4e-02  0.02  \n",
      "(CVXPY) Oct 17 01:02:15 AM: 4   7.8e-02  3.3e-03  5.2e-06  1.09e+00   -1.803996275e-02  -1.794629120e-02  3.3e-03  0.02  \n",
      "(CVXPY) Oct 17 01:02:15 AM: 5   5.8e-03  2.4e-04  9.5e-08  1.02e+00   -1.795638888e-02  -1.794947335e-02  2.4e-04  0.02  \n",
      "(CVXPY) Oct 17 01:02:15 AM: 6   1.2e-03  5.1e-05  9.8e-09  1.00e+00   -1.794926766e-02  -1.794781576e-02  5.1e-05  0.03  \n",
      "(CVXPY) Oct 17 01:02:15 AM: 7   3.9e-05  1.6e-06  5.3e-11  1.00e+00   -1.794754847e-02  -1.794750203e-02  1.6e-06  0.03  \n",
      "(CVXPY) Oct 17 01:02:15 AM: 8   8.9e-06  3.7e-07  6.1e-12  1.00e+00   -1.794750717e-02  -1.794749656e-02  3.7e-07  0.03  \n",
      "(CVXPY) Oct 17 01:02:15 AM: 9   9.4e-07  3.9e-08  2.1e-13  1.00e+00   -1.794749559e-02  -1.794749448e-02  3.9e-08  0.03  \n",
      "(CVXPY) Oct 17 01:02:15 AM: Optimizer terminated. Time: 0.04    \n",
      "(CVXPY) Oct 17 01:02:15 AM: \n",
      "(CVXPY) Oct 17 01:02:15 AM: Interior-point solution summary\n",
      "(CVXPY) Oct 17 01:02:15 AM:   Problem status  : PRIMAL_AND_DUAL_FEASIBLE\n",
      "(CVXPY) Oct 17 01:02:15 AM:   Solution status : OPTIMAL\n",
      "(CVXPY) Oct 17 01:02:15 AM:   Primal.  obj: -1.7947495594e-02   nrm: 1e+00    Viol.\n",
      "(CVXPY) Oct 17 01:02:15 AM:   con: 3e-08  \n",
      "(CVXPY) Oct 17 01:02:15 AM:   var: 4e-10  \n",
      "(CVXPY) Oct 17 01:02:15 AM:   barvar: 0e+00  \n",
      "(CVXPY) Oct 17 01:02:15 AM: \n",
      "(CVXPY) Oct 17 01:02:15 AM:   Dual.    obj: -1.7947494479e-02   nrm: 4e-02    Viol.\n",
      "(CVXPY) Oct 17 01:02:15 AM:   con: 0e+00  \n",
      "(CVXPY) Oct 17 01:02:15 AM:   var: 6e-10  \n",
      "(CVXPY) Oct 17 01:02:15 AM:   barvar: 1e-09  \n",
      "(CVXPY) Oct 17 01:02:15 AM: \n",
      "-------------------------------------------------------------------------------\n",
      "                                    Summary                                    \n",
      "-------------------------------------------------------------------------------\n",
      "(CVXPY) Oct 17 01:02:15 AM: Problem status: optimal\n",
      "(CVXPY) Oct 17 01:02:15 AM: Optimal value: 1.795e-02\n",
      "(CVXPY) Oct 17 01:02:15 AM: Compilation took 5.603e-02 seconds\n",
      "(CVXPY) Oct 17 01:02:15 AM: Solver (including time spent in interface) took 4.722e-02 seconds\n",
      "Optimization Finished\n",
      "\n",
      "Mu\n",
      "[2.02687941e-02 2.49763229e-02 1.47176235e-09 1.37242088e-02\n",
      " 1.05615802e-02 1.59465702e-02 1.13005645e-02 2.85930085e-09\n",
      " 1.36147477e-03 1.60329649e-02 9.86007285e-03 1.22212574e-02\n",
      " 5.56499448e-03 4.82292233e-09 1.28771378e-02 2.25027328e-09\n",
      " 1.37261022e-02 8.26850445e-03 1.72568934e-02 6.25989140e-09\n",
      " 8.15625476e-03 1.34358831e-02 2.19536557e-02 1.19322799e-02\n",
      " 1.88889749e-03 6.91701152e-03 1.72139051e-04 3.17397851e-08\n",
      " 3.86239611e-09 9.75291870e-03 1.37648153e-03 3.03307685e-09\n",
      " 1.31957389e-03 1.97955008e-02 8.63593050e-03 2.72187739e-02\n",
      " 6.64757838e-04 1.47658369e-02 4.91684947e-03 1.65076493e-02\n",
      " 6.31119835e-08 1.35982284e-02 1.69875699e-02 9.32396002e-03\n",
      " 4.29217341e-09 1.60478666e-02 1.83158205e-03 2.74115885e-09\n",
      " 1.21435552e-02 3.30929003e-02 1.23227727e-09 4.64307309e-08\n",
      " 2.98264689e-02 1.36883848e-03 3.35401179e-03 8.96619367e-03\n",
      " 9.57425111e-03 1.21115484e-02 1.22203503e-03 1.57643843e-02\n",
      " 1.66272410e-02 1.95429595e-02 2.30425153e-02 1.31229689e-02\n",
      " 4.48385746e-09 1.51869953e-02 9.90505001e-09 5.77903185e-03\n",
      " 2.56088011e-02 3.58858989e-02 9.59419801e-03 6.84781448e-03\n",
      " 1.80086116e-02 1.37960213e-09 1.20864190e-08 2.55833786e-02\n",
      " 3.31348532e-03 9.93857278e-09 7.02262133e-03 5.48497282e-03\n",
      " 1.40395360e-03 3.18376411e-02 8.46187102e-03 5.09532279e-03\n",
      " 3.19064720e-09 1.28023069e-05 2.17937604e-09 2.08974884e-02\n",
      " 5.57448938e-04 2.98559639e-03 1.15290844e-02 1.11574480e-02\n",
      " 1.64060668e-03 1.12174237e-02 1.60887685e-02 3.30315250e-02\n",
      " 3.68666339e-02 1.46003694e-08 2.89111481e-03 2.51023126e-02]\n",
      "Cmin\n",
      "0.017947493413898778\n"
     ]
    }
   ],
   "source": [
    "#basic settings\n",
    "d1=args.d1\n",
    "d2=args.d2\n",
    "d=args.d1*args.d2\n",
    "r=args.r\n",
    "delta=args.delta\n",
    "\n",
    "N_a = args.num_of_action_set\n",
    "A= np.zeros((N_a,d))\n",
    "B= np.zeros((N_a,d))\n",
    "A=np.zeros((N_a,d))\n",
    "for i in range(0,N_a):\n",
    "    A[i]=np.random.normal(0,1,d)\n",
    "    A[i]=A[i]/LA.norm(A[i])\n",
    "    B[i]=(np.reshape(A[i], (d1,d2)).T).flatten()\n",
    "\n",
    "########################## Exploration plan optimization stage ################################\n",
    "\n",
    "mu=cp.Variable(N_a, pos=True)\n",
    "X=A.T@ cp.diag(mu) @A\n",
    "\n",
    "constraints = [cp.sum(mu)==1]\n",
    "prob = cp.Problem(cp.Maximize(cp.lambda_min(X)), constraints)\n",
    "prob.solve(solver=cp.MOSEK, verbose=True)\n",
    "\n",
    "print('Optimization Finished\\n')\n",
    "print('Mu')\n",
    "print(mu.value)\n",
    "dist_hao=mu.value/np.sum(mu.value)\n",
    "print('Cmin')\n",
    "Cmin=prob.value\n",
    "print(prob.value)\n",
    "\n",
    "Q=A.T@ np.diag(dist_hao) @A\n",
    "Q_inv=LA.inv(Q)"
   ]
  },
  {
   "cell_type": "code",
   "execution_count": 6,
   "id": "f66054c3-024b-4536-a120-5259f1585dd6",
   "metadata": {},
   "outputs": [],
   "source": [
    "def catoni_indiv(v):\n",
    "    return np.sign(v)*np.log(1+np.abs(v)+v*v/2)"
   ]
  },
  {
   "cell_type": "code",
   "execution_count": 7,
   "id": "547d7645-84bb-422e-b55e-8408c49d0031",
   "metadata": {},
   "outputs": [],
   "source": [
    "def symmetrize(X,d1,d2):\n",
    "    X_mat=X.reshape((d1,d2))\n",
    "    return np.block([[np.zeros((d1,d1)), X_mat],[np.transpose(X_mat), np.zeros((d2,d2))]])"
   ]
  },
  {
   "cell_type": "code",
   "execution_count": 8,
   "id": "ac21f5fa-24a1-466d-b202-e1e144715b58",
   "metadata": {},
   "outputs": [],
   "source": [
    "def matrix_catoni_one(X,d1,d2, nu):\n",
    "    eigenvalue, eigenvectors = LA.eig(nu*symmetrize(X,d1,d2))\n",
    "    result=eigenvectors@ np.diag(catoni_indiv(eigenvalue)) @eigenvectors.T\n",
    "    return result"
   ]
  },
  {
   "cell_type": "code",
   "execution_count": 9,
   "id": "4d4bc45c-aec5-4bc6-942d-338a33438b9e",
   "metadata": {},
   "outputs": [],
   "source": [
    "def matrix_catoni(X,T0,d1,d2, nu):\n",
    "    D=d1+d2\n",
    "    result=np.zeros((D,D))\n",
    "    for i in range(0, T0):\n",
    "        result= result + matrix_catoni_one(X[i],d1,d2,nu)/T0/nu\n",
    "    final_result = result[0:d1, d1:D]\n",
    "    return final_result\n",
    "    \n",
    "    "
   ]
  },
  {
   "cell_type": "code",
   "execution_count": 10,
   "id": "8be5b2cb-9bbf-4833-b7fd-32b940dba552",
   "metadata": {},
   "outputs": [],
   "source": [
    "def thresholding(X, threshold):\n",
    "    U, S, V=LA.svd(X)\n",
    "    newS=np.diag(np.abs(S)>threshold)*S\n",
    "    return (U@newS)@V"
   ]
  },
  {
   "cell_type": "code",
   "execution_count": 11,
   "id": "03bc35bc",
   "metadata": {},
   "outputs": [
    {
     "name": "stdout",
     "output_type": "stream",
     "text": [
      "===============================================================================\n",
      "                                     CVXPY                                     \n",
      "                                     v1.3.2                                    \n",
      "===============================================================================\n",
      "(CVXPY) Oct 17 01:02:33 AM: Your problem has 1350 variables, 3 constraints, and 0 parameters.\n",
      "(CVXPY) Oct 17 01:02:33 AM: It is compliant with the following grammars: DCP, DQCP\n",
      "(CVXPY) Oct 17 01:02:33 AM: (If you need to solve this problem multiple times, but with different data, consider using parameters.)\n",
      "(CVXPY) Oct 17 01:02:33 AM: CVXPY will first compile your problem; then, it will invoke a numerical solver to obtain a solution.\n",
      "-------------------------------------------------------------------------------\n",
      "                                  Compilation                                  \n",
      "-------------------------------------------------------------------------------\n",
      "(CVXPY) Oct 17 01:02:33 AM: Compiling problem (target solver=MOSEK).\n",
      "(CVXPY) Oct 17 01:02:33 AM: Reduction chain: Dcp2Cone -> CvxAttr2Constr -> ConeMatrixStuffing -> MOSEK\n",
      "(CVXPY) Oct 17 01:02:33 AM: Applying reduction Dcp2Cone\n",
      "(CVXPY) Oct 17 01:02:33 AM: Applying reduction CvxAttr2Constr\n",
      "(CVXPY) Oct 17 01:02:33 AM: Applying reduction ConeMatrixStuffing\n",
      "(CVXPY) Oct 17 01:02:33 AM: Applying reduction MOSEK\n",
      "(CVXPY) Oct 17 01:02:33 AM: Finished problem compilation (took 1.720e-01 seconds).\n",
      "-------------------------------------------------------------------------------\n",
      "                                Numerical solver                               \n",
      "-------------------------------------------------------------------------------\n",
      "(CVXPY) Oct 17 01:02:33 AM: Invoking solver MOSEK  to obtain a solution.\n",
      "\n",
      "\n",
      "(CVXPY) Oct 17 01:02:33 AM: Problem\n",
      "(CVXPY) Oct 17 01:02:33 AM:   Name                   :                 \n",
      "(CVXPY) Oct 17 01:02:33 AM:   Objective sense        : maximize        \n",
      "(CVXPY) Oct 17 01:02:33 AM:   Type                   : CONIC (conic optimization problem)\n",
      "(CVXPY) Oct 17 01:02:33 AM:   Constraints            : 753             \n",
      "(CVXPY) Oct 17 01:02:33 AM:   Affine conic cons.     : 0               \n",
      "(CVXPY) Oct 17 01:02:33 AM:   Disjunctive cons.      : 0               \n",
      "(CVXPY) Oct 17 01:02:33 AM:   Cones                  : 0               \n",
      "(CVXPY) Oct 17 01:02:33 AM:   Scalar variables       : 123             \n",
      "(CVXPY) Oct 17 01:02:33 AM:   Matrix variables       : 4 (scalarized: 2580)\n",
      "(CVXPY) Oct 17 01:02:33 AM:   Integer variables      : 0               \n",
      "(CVXPY) Oct 17 01:02:33 AM: \n",
      "(CVXPY) Oct 17 01:02:33 AM: Optimizer started.\n",
      "(CVXPY) Oct 17 01:02:33 AM: Presolve started.\n",
      "(CVXPY) Oct 17 01:02:33 AM: Linear dependency checker started.\n",
      "(CVXPY) Oct 17 01:02:33 AM: Linear dependency checker terminated.\n",
      "(CVXPY) Oct 17 01:02:33 AM: Eliminator started.\n",
      "(CVXPY) Oct 17 01:02:33 AM: Freed constraints in eliminator : 1\n",
      "(CVXPY) Oct 17 01:02:33 AM: Eliminator terminated.\n",
      "(CVXPY) Oct 17 01:02:33 AM: Eliminator - tries                  : 1                 time                   : 0.00            \n",
      "(CVXPY) Oct 17 01:02:33 AM: Lin. dep.  - tries                  : 1                 time                   : 0.00            \n",
      "(CVXPY) Oct 17 01:02:33 AM: Lin. dep.  - primal attempts        : 1                 successes              : 1               \n",
      "(CVXPY) Oct 17 01:02:33 AM: Lin. dep.  - dual attempts          : 0                 successes              : 0               \n",
      "(CVXPY) Oct 17 01:02:33 AM: Lin. dep.  - primal deps.           : 0                 dual deps.             : 0               \n",
      "(CVXPY) Oct 17 01:02:33 AM: Presolve terminated. Time: 0.00    \n",
      "(CVXPY) Oct 17 01:02:33 AM: GP based matrix reordering started.\n",
      "(CVXPY) Oct 17 01:02:33 AM: GP based matrix reordering terminated.\n",
      "(CVXPY) Oct 17 01:02:33 AM: Optimizer  - threads                : 12              \n",
      "(CVXPY) Oct 17 01:02:33 AM: Optimizer  - solved problem         : \n",
      "(CVXPY) Oct 17 01:02:33 AM: the primal      \n",
      "(CVXPY) Oct 17 01:02:33 AM: \n",
      "(CVXPY) Oct 17 01:02:33 AM: Optimizer  - Constraints            : 752             \n",
      "(CVXPY) Oct 17 01:02:33 AM: Optimizer  - Cones                  : 1               \n",
      "(CVXPY) Oct 17 01:02:33 AM: Optimizer  - Scalar variables       : 103               conic                  : 2               \n",
      "(CVXPY) Oct 17 01:02:33 AM: Optimizer  - Semi-definite variables: 4                 scalarized             : 2580            \n",
      "(CVXPY) Oct 17 01:02:33 AM: Factor     - setup time             : 0.01            \n",
      "(CVXPY) Oct 17 01:02:33 AM: Factor     - dense det. time        : 0.00              GP order time          : 0.00            \n",
      "(CVXPY) Oct 17 01:02:33 AM: Factor     - nonzeros before factor : 1.76e+05          after factor           : 1.77e+05        \n",
      "(CVXPY) Oct 17 01:02:33 AM: Factor     - dense dim.             : 0                 flops                  : 7.80e+07        \n",
      "(CVXPY) Oct 17 01:02:33 AM: ITE PFEAS    DFEAS    GFEAS    PRSTATUS   POBJ              DOBJ              MU       TIME  \n",
      "(CVXPY) Oct 17 01:02:33 AM: 0   5.0e+00  1.0e+00  1.0e+00  0.00e+00   -0.000000000e+00  -0.000000000e+00  1.0e+00  0.01  \n",
      "(CVXPY) Oct 17 01:02:33 AM: 1   1.9e+00  3.9e-01  5.3e-01  -7.91e-01  1.002060695e+01   8.984193324e+00   3.9e-01  0.03  \n",
      "(CVXPY) Oct 17 01:02:33 AM: 2   7.8e-02  1.6e-02  2.7e-02  -5.40e-01  5.853974869e+01   5.577163808e+01   1.6e-02  0.04  \n",
      "(CVXPY) Oct 17 01:02:33 AM: 3   1.6e-02  3.2e-03  4.8e-03  2.36e-01   8.371066757e+01   8.142015294e+01   3.2e-03  0.04  \n",
      "(CVXPY) Oct 17 01:02:33 AM: 4   3.8e-03  7.6e-04  8.5e-04  2.60e-01   1.114639923e+02   1.102175973e+02   7.6e-04  0.05  \n",
      "(CVXPY) Oct 17 01:02:33 AM: 5   9.6e-04  1.9e-04  1.3e-04  3.81e-01   1.423896075e+02   1.419244417e+02   1.9e-04  0.06  \n",
      "(CVXPY) Oct 17 01:02:33 AM: 6   1.9e-04  3.8e-05  1.2e-05  5.02e-01   1.683531526e+02   1.682605226e+02   3.8e-05  0.07  \n",
      "(CVXPY) Oct 17 01:02:33 AM: 7   2.8e-05  5.7e-06  6.9e-07  8.61e-01   1.783660027e+02   1.783512066e+02   5.7e-06  0.08  \n",
      "(CVXPY) Oct 17 01:02:33 AM: 8   4.0e-06  8.1e-07  3.9e-08  1.01e+00   1.799319819e+02   1.799296590e+02   8.1e-07  0.08  \n",
      "(CVXPY) Oct 17 01:02:33 AM: 9   5.5e-07  1.1e-07  2.0e-09  9.95e-01   1.801728116e+02   1.801724809e+02   1.1e-07  0.09  \n",
      "(CVXPY) Oct 17 01:02:33 AM: 10  7.8e-08  1.6e-08  1.1e-10  1.00e+00   1.802046564e+02   1.802046081e+02   1.6e-08  0.10  \n",
      "(CVXPY) Oct 17 01:02:33 AM: 11  8.8e-09  1.8e-09  4.1e-12  1.00e+00   1.802095520e+02   1.802095465e+02   1.8e-09  0.11  \n",
      "(CVXPY) Oct 17 01:02:33 AM: 12  2.1e-10  1.1e-10  1.4e-14  1.00e+00   1.802101546e+02   1.802101545e+02   4.1e-11  0.12  \n",
      "(CVXPY) Oct 17 01:02:33 AM: Optimizer terminated. Time: 0.12    \n",
      "(CVXPY) Oct 17 01:02:33 AM: \n",
      "(CVXPY) Oct 17 01:02:33 AM: Interior-point solution summary\n",
      "(CVXPY) Oct 17 01:02:33 AM:   Problem status  : PRIMAL_AND_DUAL_FEASIBLE\n",
      "(CVXPY) Oct 17 01:02:33 AM:   Solution status : OPTIMAL\n",
      "(CVXPY) Oct 17 01:02:33 AM:   Primal.  obj: 1.8021015463e+02    nrm: 1e+03    Viol.\n",
      "(CVXPY) Oct 17 01:02:33 AM:   con: 1e-08  \n",
      "(CVXPY) Oct 17 01:02:33 AM:   var: 0e+00  \n",
      "(CVXPY) Oct 17 01:02:33 AM:   barvar: 0e+00  \n",
      "(CVXPY) Oct 17 01:02:33 AM: \n",
      "(CVXPY) Oct 17 01:02:33 AM:   Dual.    obj: 1.8021015451e+02    nrm: 2e+02    Viol.\n",
      "(CVXPY) Oct 17 01:02:33 AM:   con: 0e+00  \n",
      "(CVXPY) Oct 17 01:02:33 AM:   var: 1e-09  \n",
      "(CVXPY) Oct 17 01:02:33 AM:   barvar: 6e-09  \n",
      "(CVXPY) Oct 17 01:02:33 AM: \n",
      "-------------------------------------------------------------------------------\n",
      "                                    Summary                                    \n",
      "-------------------------------------------------------------------------------\n",
      "(CVXPY) Oct 17 01:02:33 AM: Problem status: optimal\n",
      "(CVXPY) Oct 17 01:02:33 AM: Optimal value: 1.802e+02\n",
      "(CVXPY) Oct 17 01:02:33 AM: Compilation took 1.720e-01 seconds\n",
      "(CVXPY) Oct 17 01:02:33 AM: Solver (including time spent in interface) took 1.358e-01 seconds\n",
      "180.2101538993323\n"
     ]
    }
   ],
   "source": [
    "mu=cp.Variable(N_a, pos=True)\n",
    "X=A.T@ cp.diag(mu) @A\n",
    "X2= B.T@ cp.diag(mu) @B\n",
    "\n",
    "T = Variable((d, d), symmetric=True)\n",
    "M = bmat([[X, np.eye(d)],\n",
    "          [np.eye(d), T]])\n",
    "Tsum=np.zeros([d2,d2])\n",
    "T2 = Variable((d, d), symmetric=True)\n",
    "M2 = bmat([[X2, np.eye(d)],\n",
    "          [np.eye(d), T2]])\n",
    "constraints = [M>>0, M2 >> 0, cp.sum(mu)==1]\n",
    "Tsum=np.zeros([d2,d2])\n",
    "Tsum2=np.zeros([d1,d1])\n",
    "for i in range(0,d1):\n",
    "    Tsum=Tsum+T[d2*i:d2*(i+1), :][:,d2*i:d2*(i+1)]\n",
    "for j in range(0,d2):\n",
    "    Tsum2=Tsum2+T2[d1*i:d1*(i+1), :][:,d1*i:d1*(i+1)]\n",
    "objective = cp.Minimize(cp.maximum(cp.lambda_max(Tsum), cp.lambda_max(Tsum2)))\n",
    "\n",
    "prob=cp.Problem(objective, constraints)\n",
    "prob.solve(solver=cp.MOSEK,verbose=True)\n",
    "\n",
    "dist_our=mu.value/np.sum(mu.value)\n",
    "NN=prob.value\n",
    "print(prob.value)\n",
    "\n",
    "\n",
    "Q=A.T@ np.diag(dist_our) @A\n",
    "Q_inv_our=LA.inv(Q)"
   ]
  },
  {
   "cell_type": "code",
   "execution_count": 27,
   "id": "5c504517-6120-4c38-b0d9-802ae4fba7a4",
   "metadata": {},
   "outputs": [],
   "source": [
    "T0=args.T0                                      # Total number of rounds in bandit problem\n",
    "repeative=args.repeat                           # How many times we repeat the same setting\n",
    "sigma=args.sigma                                # Variance of the noise\n",
    "\n",
    "\n",
    "hist_true=np.zeros((repeative,d))               #history of true theta\n",
    "hist_esti=np.zeros((repeative,d))               #history of the estimated theta by our method\n",
    "hist_esti_raw=np.zeros((repeative,d))           #history of the estimated theta by our method before thresholding\n",
    "cum_regret=np.zeros((repeative,T0))             #Cumulative regret of our setting\n",
    "\n",
    "exp_length=np.zeros(repeative)\n",
    "\n",
    "hist_esti_hao=np.zeros((repeative,d))           #history of the estimated theta by Hao's method\n",
    "cum_regret_hao=np.zeros((repeative,T0))         #Cumulative regret of the Hao's setting\n",
    "\n",
    "\n",
    "\n",
    "for rep in range(0,repeative):\n",
    "    #setting theta - changes over each experiment\n",
    "    theta_v1 = np.random.normal(0,1,d1)\n",
    "    theta_v1=theta_v1/LA.norm(theta_v1)\n",
    "    theta_v2 = np.random.normal(0,1,d2)\n",
    "    theta_v2=theta_v2/LA.norm(theta_v2)\n",
    "    theta = np.matrix.flatten(np.outer(theta_v1, theta_v2))\n",
    "\n",
    "\n",
    "    theta_0 = args.cheat*theta                  #PopArt can exploit pilot estimator when the agent has one. For basic setup, this cheat is always 0 and we didn't actually use it.\n",
    "    a_true=A[np.argmax(A@theta)]\n",
    "\n",
    "    # Experiment 1: PopArt experiment\n",
    "    S=np.max(np.abs(A@(theta)))\n",
    "    S_0=np.max(np.abs(A@(theta-theta_0)))\n",
    "    T_exp=int(np.ceil(((sigma**2+S_0**2)*(r**2)*NN*(T0**2)/S_0**2)**(1/3)))\n",
    "    exp_length[rep]=T_exp\n",
    "    threshold_our = np.sqrt(2*NN*np.log((d1+d2)/delta)/T_exp)        \n",
    "    nu_our = np.sqrt(2*np.log(2*np.max((d1,d2))/delta)/NN/T0)/(S_0+sigma)\n",
    "\n",
    "\n",
    "    hist_true[rep]=theta\n",
    "    X_hist=np.zeros((T_exp,d))\n",
    "    cum_reg=0                                       #temporary variable for cumulative regret\n",
    "    for t in range(0,T_exp):\n",
    "        act_t=A[np.random.choice(N_a, p=dist_our)]\n",
    "        r=theta@act_t+np.random.normal(0,sigma)\n",
    "        cum_reg+=theta@(a_true-act_t)\n",
    "        cum_regret[rep][t]=cum_reg\n",
    "        X_hist[t]=(r-act_t@theta_0)*(Q_inv_our@act_t)+theta_0\n",
    "\n",
    "    \n",
    "    theta_1=matrix_catoni(X_hist,T_exp,d1,d2,nu_our)\n",
    "    theta_hat=np.matrix.flatten(thresholding(theta_1, threshold_our))\n",
    "    hist_esti[rep]=theta_hat\n",
    "    for t in range(T_exp, T0):\n",
    "        act_t=A[np.argmax(A@theta_hat)]\n",
    "        cum_reg+=theta@(a_true-act_t)\n",
    "        cum_regret[rep][t]=cum_reg\n",
    "\n",
    "\n",
    "    #Experiment 2 - Botao Hao setting experiment\n",
    "    T_exp_hao=int((2*(r*sigma*T0/S/Cmin)**2*np.log(d))**(1/3))\n",
    "    T_exp_hao=np.min((T0, T_exp_hao))\n",
    "    hist_b=np.zeros((T_exp_hao, d))                        #temporary history for the action of Hao's method, since it computes LASSO optimization\n",
    "    r_b=np.zeros(T_exp_hao)                                #temporary history for the reward\n",
    "    \n",
    "    cum_reg_hao=0\n",
    "    for t in range(0,T_exp_hao):\n",
    "        act_h_t = A[np.random.choice(N_a, p=dist_hao)]\n",
    "        hist_b[t]=act_h_t\n",
    "        r_b[t] = theta @ act_h_t + np.random.normal(0, sigma)\n",
    "        cum_reg_hao+=theta@(a_true-act_h_t)\n",
    "        cum_regret_hao[rep][t]=cum_reg_hao\n",
    "    beta = cp.Variable(d)\n",
    "    lambd_b = 4 * sigma*np.sqrt(np.log(d)/ T_exp_hao)\n",
    "    lassosol = cp.Problem(cp.Minimize(objective_fn(hist_b, r_b, beta, lambd_b,d1, d2)))\n",
    "    lassosol.solve()\n",
    "    beta_hat = beta.value\n",
    "    hist_esti_hao[rep]=beta_hat\n",
    "    a_hat_h=A[np.argmax(A@beta_hat)]\n",
    "    for t in range(T_exp_hao,T0):\n",
    "        act_h_t = A[np.argmax(A @ beta_hat)]\n",
    "        cum_reg_hao += theta @ (a_true - act_h_t)\n",
    "        cum_regret_hao[rep][t] = cum_reg_hao\n",
    "\n"
   ]
  },
  {
   "cell_type": "code",
   "execution_count": 24,
   "id": "59e59c8b-8ffb-4b14-a462-0b33d6198891",
   "metadata": {},
   "outputs": [
    {
     "data": {
      "image/png": "[encoded data removed]",
      "text/plain": [
       "<Figure size 640x480 with 1 Axes>"
      ]
     },
     "metadata": {},
     "output_type": "display_data"
    }
   ],
   "source": [
    "import matplotlib.pyplot as plt\n",
    "timeline=np.linspace(1,T0, T0)\n",
    "plt.xlabel('Time step', fontsize=15)\n",
    "plt.ylabel('Cumulative regret', fontsize=15)\n",
    "vari_our=np.std(cum_regret,axis=0)\n",
    "mean_our=np.mean(cum_regret,axis=0)\n",
    "vari_hao=np.std(cum_regret_hao,axis=0)\n",
    "mean_hao=np.mean(cum_regret_hao,axis=0)\n",
    "plt.plot(timeline, np.mean(cum_regret,axis=0), label='LPA-ETC (Ours)', color='cornflowerblue')\n",
    "plt.fill_between(timeline, mean_our-vari_our, mean_our+vari_our,\n",
    "    alpha=0.3, color='cornflowerblue')\n",
    "plt.plot(timeline,np.mean(cum_regret_hao,axis=0), color='bisque', label='Cmin_nuc')\n",
    "plt.fill_between(timeline, mean_hao-vari_hao, mean_hao+vari_hao,\n",
    "    alpha=0.3, color='bisque')\n",
    "plt.legend(loc=2, fontsize=18)\n",
    "plt.show()"
   ]
  },
  {
   "cell_type": "code",
   "execution_count": 28,
   "id": "385cf44a-819b-4c8c-89d2-aec0e3fb669b",
   "metadata": {},
   "outputs": [
    {
     "data": {
      "text/plain": [
       "array([29627., 18000., 18358.,  6774.,  7413., 19384., 18446., 29881.,\n",
       "        3045., 10307., 32638., 17695., 12961.,  3763.,  8272., 12502.,\n",
       "        9358., 20522.,  3707., 21455.,  8529.,  6266.,  8981., 13704.,\n",
       "       12641., 18467.,  3375., 21549., 11398., 21042.])"
      ]
     },
     "execution_count": 28,
     "metadata": {},
     "output_type": "execute_result"
    }
   ],
   "source": [
    "exp_length"
   ]
  },
  {
   "cell_type": "code",
   "execution_count": 37,
   "id": "d2c852de-ccd8-4657-9842-f2d4739a46d5",
   "metadata": {},
   "outputs": [
    {
     "data": {
      "text/plain": [
       "1.1908119990904216"
      ]
     },
     "execution_count": 37,
     "metadata": {},
     "output_type": "execute_result"
    }
   ],
   "source": [
    "threshold_our"
   ]
  },
  {
   "cell_type": "code",
   "execution_count": 59,
   "id": "75dc4553-2091-49e0-9ac6-b01d84e75210",
   "metadata": {},
   "outputs": [
    {
     "data": {
      "text/plain": [
       "array([1.0000e+00, 2.0000e+00, 3.0000e+00, ..., 9.9998e+04, 9.9999e+04,\n",
       "       1.0000e+05])"
      ]
     },
     "execution_count": 59,
     "metadata": {},
     "output_type": "execute_result"
    }
   ],
   "source": [
    "timeline"
   ]
  },
  {
   "cell_type": "code",
   "execution_count": 39,
   "id": "ee435d03-dd09-4746-ad36-fa3b4f1ded87",
   "metadata": {},
   "outputs": [
    {
     "data": {
      "text/plain": [
       "0.1"
      ]
     },
     "execution_count": 39,
     "metadata": {},
     "output_type": "execute_result"
    }
   ],
   "source": [
    "sigma"
   ]
  },
  {
   "cell_type": "code",
   "execution_count": 48,
   "id": "ce501674-576f-410f-a605-fddd807f27c1",
   "metadata": {},
   "outputs": [
    {
     "data": {
      "text/plain": [
       "array([-0.32570891,  0.12901681, -0.07238214, -0.05764867, -0.04536517,\n",
       "        0.12837657,  0.40265901,  0.08644254,  0.01461914,  0.13536001,\n",
       "       -0.16238531,  0.07703265,  0.18115825, -0.15538554,  0.1641978 ,\n",
       "        0.20615209, -0.21068425,  0.05228471,  0.16632717, -0.13672247,\n",
       "        0.19919616, -0.2201705 , -0.38220065,  0.10897047,  0.40461547])"
      ]
     },
     "execution_count": 48,
     "metadata": {},
     "output_type": "execute_result"
    }
   ],
   "source": [
    "A[1]"
   ]
  },
  {
   "cell_type": "code",
   "execution_count": 49,
   "id": "98d71de7-87d4-4e65-90f0-973667279fd2",
   "metadata": {},
   "outputs": [
    {
     "data": {
      "text/plain": [
       "array([[-0.32570891,  0.12901681, -0.07238214, -0.05764867, -0.04536517],\n",
       "       [ 0.12837657,  0.40265901,  0.08644254,  0.01461914,  0.13536001],\n",
       "       [-0.16238531,  0.07703265,  0.18115825, -0.15538554,  0.1641978 ],\n",
       "       [ 0.20615209, -0.21068425,  0.05228471,  0.16632717, -0.13672247],\n",
       "       [ 0.19919616, -0.2201705 , -0.38220065,  0.10897047,  0.40461547]])"
      ]
     },
     "execution_count": 49,
     "metadata": {},
     "output_type": "execute_result"
    }
   ],
   "source": [
    "np.reshape(A[1], (5,5))"
   ]
  },
  {
   "cell_type": "code",
   "execution_count": 51,
   "id": "b898b87e-74d3-45eb-b96e-aa1124a06948",
   "metadata": {},
   "outputs": [],
   "source": [
    "B=(np.reshape(A[1], (5,5)).T).flatten()"
   ]
  },
  {
   "cell_type": "code",
   "execution_count": 29,
   "id": "cc794e1a-38aa-4c56-ae04-33407f906508",
   "metadata": {},
   "outputs": [
    {
     "data": {
      "text/plain": [
       "array([[-0.11589533,  0.14780652, -0.30448833, ..., -0.05600869,\n",
       "         0.19687644, -0.38318611],\n",
       "       [ 0.31512001,  0.0886618 ,  0.17002274, ...,  0.00428103,\n",
       "         0.12754593,  0.05137123],\n",
       "       [-0.01246583, -0.02882923,  0.16650127, ...,  0.25568662,\n",
       "        -0.31247835,  0.19067688],\n",
       "       ...,\n",
       "       [-0.14846528, -0.13244992, -0.06641491, ...,  0.27116743,\n",
       "        -0.30339718,  0.02800047],\n",
       "       [-0.00444882, -0.0490271 ,  0.09632922, ...,  0.25014661,\n",
       "        -0.08841083, -0.2816093 ],\n",
       "       [-0.02783013,  0.05899011,  0.1163047 , ...,  0.26004823,\n",
       "         0.21952459,  0.2874135 ]])"
      ]
     },
     "execution_count": 29,
     "metadata": {},
     "output_type": "execute_result"
    }
   ],
   "source": [
    "B"
   ]
  },
  {
   "cell_type": "code",
   "execution_count": null,
   "id": "ab4fe505-3a80-4ee4-ba54-cdebf7d8b944",
   "metadata": {},
   "outputs": [],
   "source": []
  }
 ],
 "metadata": {
  "kernelspec": {
   "display_name": "Python 3 (ipykernel)",
   "language": "python",
   "name": "python3"
  },
  "language_info": {
   "codemirror_mode": {
    "name": "ipython",
    "version": 3
   },
   "file_extension": ".py",
   "mimetype": "text/x-python",
   "name": "python",
   "nbconvert_exporter": "python",
   "pygments_lexer": "ipython3",
   "version": "3.11.4"
  }
 },
 "nbformat": 4,
 "nbformat_minor": 5
}
