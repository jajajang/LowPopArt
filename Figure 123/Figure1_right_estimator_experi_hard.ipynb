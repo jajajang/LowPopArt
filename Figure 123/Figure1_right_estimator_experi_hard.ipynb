{
 "cells": [
  {
   "cell_type": "code",
   "execution_count": 1,
   "id": "091988c8-f571-44d0-ac2b-5bfd3681f0c5",
   "metadata": {},
   "outputs": [],
   "source": [
    "from functools import wraps\n",
    "from typing import List, Tuple\n",
    "import mosek\n",
    "import numpy as np\n",
    "import scipy.sparse as sp\n",
    "from numpy import linalg as LA\n",
    "import cvxpy as cp\n",
    "import argparse\n",
    "\n",
    "from cvxpy.atoms import bmat, reshape, trace, upper_tri\n",
    "from cvxpy.constraints.psd import PSD\n",
    "from cvxpy.expressions.variable import Variable\n",
    "from cvxpy.atoms.atom import Atom\n",
    "from cvxpy.atoms.quad_form import QuadForm\n",
    "from cvxpy.constraints.constraint import Constraint"
   ]
  },
  {
   "cell_type": "code",
   "execution_count": 2,
   "id": "03b84469-d21e-42ee-9228-2191420b5ddb",
   "metadata": {},
   "outputs": [],
   "source": [
    "import sys\n",
    "sys.argv = ['']"
   ]
  },
  {
   "cell_type": "code",
   "execution_count": 3,
   "id": "6ee63994-32de-4cd2-9031-ef496d6fffba",
   "metadata": {},
   "outputs": [],
   "source": [
    "parser = argparse.ArgumentParser()\n",
    "parser.add_argument(\"--d1\", type=int, help=\"row dimension of the action matrix\", default=3)\n",
    "parser.add_argument(\"--d2\", type=int, help=\"column dimension of the action matrix\", default=3)\n",
    "parser.add_argument(\"--r\", type=int, help=\"rank of the hidden matrix\", default=1)\n",
    "parser.add_argument(\"--same\", type=bool, help='Whether we should use equal strategy which is ours', default=False)\n",
    "parser.add_argument(\"--inc\",type=int, help='Incremental scale of the experiment', default=10000)\n",
    "parser.add_argument(\"--T_min\",type=int, help='Minimum length of experiment to examine', default=0)\n",
    "parser.add_argument(\"--howlong\",type=int, help='Maximum multiple of T_min for the experiment. For example, howlong=20 and inc=2000 means maximum 40000 rounds', default=10)\n",
    "parser.add_argument(\"--repeat\",type=int, help='How many times it will repeat for each experiment setting', default=30)\n",
    "parser.add_argument(\"--sigma\",type=float, help='Variance', default=0.1)\n",
    "parser.add_argument(\"--delta\",type=float, help='Error probability in bandit', default=0.05)\n",
    "parser.add_argument(\"--action_set\", help='which action will I use - \\'hard\\' is Case 1 in the figure, and \\'uniform\\' is the Case 2 in the figure', default='hard')\n",
    "parser.add_argument(\"--num_of_action_set\", type=int, help='Number of actions in the action set in Case 2. Case 1 has fixed number of actions', default=150),\n",
    "parser.add_argument(\"--cheat\", type=float, help='theta_0 = cheat * theta', default=0)\n",
    "args = parser.parse_args()\n",
    "\n",
    "\n",
    "# functions for the optimization of lasso. Basically cvxpy format functions.\n",
    "def loss_fn(X, Y, beta):\n",
    "    return cp.norm2(X @ beta - Y) ** 2\n",
    "\n",
    "def regularizer(beta,d1,d2):\n",
    "    return cp.norm(cp.reshape(beta, (d1,d2)), 'nuc')\n",
    "\n",
    "def objective_fn(X, Y, beta, lambd, d1, d2):\n",
    "    return loss_fn(X, Y, beta) + lambd * regularizer(beta,d1,d2)"
   ]
  },
  {
   "cell_type": "code",
   "execution_count": 4,
   "id": "86345d20-f9cc-41ee-9763-4372395cc853",
   "metadata": {},
   "outputs": [
    {
     "name": "stdout",
     "output_type": "stream",
     "text": [
      "===============================================================================\n",
      "                                     CVXPY                                     \n",
      "                                     v1.3.2                                    \n",
      "===============================================================================\n",
      "(CVXPY) Oct 17 12:59:40 AM: Your problem has 9 variables, 1 constraints, and 0 parameters.\n",
      "(CVXPY) Oct 17 12:59:40 AM: It is compliant with the following grammars: DCP, DQCP\n",
      "(CVXPY) Oct 17 12:59:40 AM: (If you need to solve this problem multiple times, but with different data, consider using parameters.)\n",
      "(CVXPY) Oct 17 12:59:40 AM: CVXPY will first compile your problem; then, it will invoke a numerical solver to obtain a solution.\n",
      "-------------------------------------------------------------------------------\n",
      "                                  Compilation                                  \n",
      "-------------------------------------------------------------------------------\n",
      "(CVXPY) Oct 17 12:59:40 AM: Compiling problem (target solver=MOSEK).\n",
      "(CVXPY) Oct 17 12:59:40 AM: Reduction chain: FlipObjective -> Dcp2Cone -> CvxAttr2Constr -> ConeMatrixStuffing -> MOSEK\n",
      "(CVXPY) Oct 17 12:59:40 AM: Applying reduction FlipObjective\n",
      "(CVXPY) Oct 17 12:59:40 AM: Applying reduction Dcp2Cone\n",
      "(CVXPY) Oct 17 12:59:40 AM: Applying reduction CvxAttr2Constr\n",
      "(CVXPY) Oct 17 12:59:40 AM: Applying reduction ConeMatrixStuffing\n",
      "(CVXPY) Oct 17 12:59:40 AM: Applying reduction MOSEK\n",
      "(CVXPY) Oct 17 12:59:40 AM: Finished problem compilation (took 1.556e-02 seconds).\n",
      "-------------------------------------------------------------------------------\n",
      "                                Numerical solver                               \n",
      "-------------------------------------------------------------------------------\n",
      "(CVXPY) Oct 17 12:59:40 AM: Invoking solver MOSEK  to obtain a solution.\n",
      "\n",
      "\n",
      "(CVXPY) Oct 17 12:59:40 AM: Problem\n",
      "(CVXPY) Oct 17 12:59:40 AM:   Name                   :                 \n",
      "(CVXPY) Oct 17 12:59:40 AM:   Objective sense        : maximize        \n",
      "(CVXPY) Oct 17 12:59:40 AM:   Type                   : CONIC (conic optimization problem)\n",
      "(CVXPY) Oct 17 12:59:40 AM:   Constraints            : 10              \n",
      "(CVXPY) Oct 17 12:59:40 AM:   Affine conic cons.     : 0               \n",
      "(CVXPY) Oct 17 12:59:40 AM:   Disjunctive cons.      : 0               \n",
      "(CVXPY) Oct 17 12:59:40 AM:   Cones                  : 0               \n",
      "(CVXPY) Oct 17 12:59:40 AM:   Scalar variables       : 46              \n",
      "(CVXPY) Oct 17 12:59:40 AM:   Matrix variables       : 1 (scalarized: 45)\n",
      "(CVXPY) Oct 17 12:59:40 AM:   Integer variables      : 0               \n",
      "(CVXPY) Oct 17 12:59:40 AM: \n",
      "(CVXPY) Oct 17 12:59:40 AM: Optimizer started.\n",
      "(CVXPY) Oct 17 12:59:40 AM: Presolve started.\n",
      "(CVXPY) Oct 17 12:59:40 AM: Linear dependency checker started.\n",
      "(CVXPY) Oct 17 12:59:40 AM: Linear dependency checker terminated.\n",
      "(CVXPY) Oct 17 12:59:40 AM: Eliminator started.\n",
      "(CVXPY) Oct 17 12:59:40 AM: Freed constraints in eliminator : 0\n",
      "(CVXPY) Oct 17 12:59:40 AM: Eliminator terminated.\n",
      "(CVXPY) Oct 17 12:59:40 AM: Eliminator started.\n",
      "(CVXPY) Oct 17 12:59:40 AM: Freed constraints in eliminator : 0\n",
      "(CVXPY) Oct 17 12:59:40 AM: Eliminator terminated.\n",
      "(CVXPY) Oct 17 12:59:40 AM: Eliminator - tries                  : 2                 time                   : 0.00            \n",
      "(CVXPY) Oct 17 12:59:40 AM: Lin. dep.  - tries                  : 1                 time                   : 0.00            \n",
      "(CVXPY) Oct 17 12:59:40 AM: Lin. dep.  - primal attempts        : 1                 successes              : 1               \n",
      "(CVXPY) Oct 17 12:59:40 AM: Lin. dep.  - dual attempts          : 0                 successes              : 0               \n",
      "(CVXPY) Oct 17 12:59:40 AM: Lin. dep.  - primal deps.           : 0                 dual deps.             : 0               \n",
      "(CVXPY) Oct 17 12:59:40 AM: Presolve terminated. Time: 0.00    \n",
      "(CVXPY) Oct 17 12:59:40 AM: Optimizer  - threads                : 12              \n",
      "(CVXPY) Oct 17 12:59:40 AM: Optimizer  - solved problem         : \n",
      "(CVXPY) Oct 17 12:59:40 AM: the primal      \n",
      "(CVXPY) Oct 17 12:59:40 AM: \n",
      "(CVXPY) Oct 17 12:59:40 AM: Optimizer  - Constraints            : 10              \n",
      "(CVXPY) Oct 17 12:59:40 AM: Optimizer  - Cones                  : 1               \n",
      "(CVXPY) Oct 17 12:59:40 AM: Optimizer  - Scalar variables       : 11                conic                  : 2               \n",
      "(CVXPY) Oct 17 12:59:40 AM: Optimizer  - Semi-definite variables: 1                 scalarized             : 45              \n",
      "(CVXPY) Oct 17 12:59:40 AM: Factor     - setup time             : 0.00            \n",
      "(CVXPY) Oct 17 12:59:40 AM: Factor     - dense det. time        : 0.00              GP order time          : 0.00            \n",
      "(CVXPY) Oct 17 12:59:40 AM: Factor     - nonzeros before factor : 55                after factor           : 55              \n",
      "(CVXPY) Oct 17 12:59:40 AM: Factor     - dense dim.             : 0                 flops                  : 2.46e+03        \n",
      "(CVXPY) Oct 17 12:59:40 AM: ITE PFEAS    DFEAS    GFEAS    PRSTATUS   POBJ              DOBJ              MU       TIME  \n",
      "(CVXPY) Oct 17 12:59:40 AM: 0   8.0e+00  1.0e+00  1.0e+00  0.00e+00   -0.000000000e+00  -0.000000000e+00  1.0e+00  0.00  \n",
      "(CVXPY) Oct 17 12:59:40 AM: 1   3.0e+00  3.8e-01  5.7e-02  2.52e+00   -6.185079810e-02  8.579893186e-02   3.8e-01  0.01  \n",
      "(CVXPY) Oct 17 12:59:40 AM: 2   5.7e-01  7.1e-02  8.7e-03  3.08e+00   -1.175702688e-02  -1.110432124e-02  7.1e-02  0.01  \n",
      "(CVXPY) Oct 17 12:59:40 AM: 3   8.8e-02  1.1e-02  3.2e-04  1.06e+00   -2.338795093e-03  -8.210022233e-04  1.1e-02  0.01  \n",
      "(CVXPY) Oct 17 12:59:40 AM: 4   2.5e-02  3.2e-03  4.8e-05  1.04e+00   -8.837793432e-04  -4.466354287e-04  3.2e-03  0.01  \n",
      "(CVXPY) Oct 17 12:59:40 AM: 5   1.4e-02  1.7e-03  1.5e-05  1.23e+00   -1.334385832e-03  -1.108142543e-03  1.7e-03  0.01  \n",
      "(CVXPY) Oct 17 12:59:40 AM: 6   2.2e-03  2.8e-04  9.4e-07  1.04e+00   -9.195973593e-04  -8.813309497e-04  2.8e-04  0.01  \n",
      "(CVXPY) Oct 17 12:59:40 AM: 7   3.2e-04  4.0e-05  5.1e-08  1.03e+00   -8.722757687e-04  -8.668178420e-04  4.0e-05  0.02  \n",
      "(CVXPY) Oct 17 12:59:40 AM: 8   7.8e-06  9.8e-07  2.0e-10  1.00e+00   -8.615473209e-04  -8.614148439e-04  9.8e-07  0.02  \n",
      "(CVXPY) Oct 17 12:59:40 AM: 9   3.3e-07  4.1e-08  1.7e-12  1.00e+00   -8.613335923e-04  -8.613280861e-04  4.1e-08  0.02  \n",
      "(CVXPY) Oct 17 12:59:40 AM: 10  2.3e-08  2.9e-09  3.2e-14  1.00e+00   -8.613268884e-04  -8.613264938e-04  2.9e-09  0.02  \n",
      "(CVXPY) Oct 17 12:59:40 AM: Optimizer terminated. Time: 0.02    \n",
      "(CVXPY) Oct 17 12:59:40 AM: \n",
      "(CVXPY) Oct 17 12:59:40 AM: Interior-point solution summary\n",
      "(CVXPY) Oct 17 12:59:40 AM:   Problem status  : PRIMAL_AND_DUAL_FEASIBLE\n",
      "(CVXPY) Oct 17 12:59:40 AM:   Solution status : OPTIMAL\n",
      "(CVXPY) Oct 17 12:59:40 AM:   Primal.  obj: -8.6132688837e-04   nrm: 1e+00    Viol.\n",
      "(CVXPY) Oct 17 12:59:40 AM:   con: 4e-09  \n",
      "(CVXPY) Oct 17 12:59:40 AM:   var: 0e+00  \n",
      "(CVXPY) Oct 17 12:59:40 AM:   barvar: 0e+00  \n",
      "(CVXPY) Oct 17 12:59:40 AM: \n",
      "(CVXPY) Oct 17 12:59:40 AM:   Dual.    obj: -8.6132649378e-04   nrm: 8e-01    Viol.\n",
      "(CVXPY) Oct 17 12:59:40 AM:   con: 0e+00  \n",
      "(CVXPY) Oct 17 12:59:40 AM:   var: 5e-10  \n",
      "(CVXPY) Oct 17 12:59:40 AM:   barvar: 5e-10  \n",
      "(CVXPY) Oct 17 12:59:40 AM: \n",
      "-------------------------------------------------------------------------------\n",
      "                                    Summary                                    \n",
      "-------------------------------------------------------------------------------\n",
      "(CVXPY) Oct 17 12:59:40 AM: Problem status: optimal\n",
      "(CVXPY) Oct 17 12:59:40 AM: Optimal value: 8.613e-04\n",
      "(CVXPY) Oct 17 12:59:40 AM: Compilation took 1.556e-02 seconds\n",
      "(CVXPY) Oct 17 12:59:40 AM: Solver (including time spent in interface) took 3.741e-02 seconds\n",
      "Set2 Optimization Finished\n",
      "\n",
      "Mu_eig\n",
      "[0.75204435 0.03099446 0.03099446 0.03099446 0.03099446 0.03099446\n",
      " 0.03099446 0.03099446 0.03099446]\n",
      "Cmin\n",
      "1161.000071235665\n"
     ]
    }
   ],
   "source": [
    "#basic settings\n",
    "d1=args.d1\n",
    "d2=args.d2\n",
    "d=args.d1*args.d2\n",
    "r=args.r\n",
    "delta=args.delta\n",
    "\n",
    "N_a = d\n",
    "A= np.zeros((N_a,d))\n",
    "\n",
    "opt = 1 / np.sqrt(d)\n",
    "A[0][0]=opt\n",
    "for i in range(1,d):\n",
    "    A[i][0]=1\n",
    "    A[i][i]=opt\n",
    "'''\n",
    "N_a=args.num_of_action_set\n",
    "A=np.zeros((N_a,d))\n",
    "for i in range(0,N_a):\n",
    "    A[i]=np.random.normal(0,1,d)\n",
    "    A[i]=A[i]/LA.norm(A[i])\n",
    "'''\n",
    "B=np.zeros((N_a,d))\n",
    "for i in range(0,N_a):\n",
    "    B[i]=(np.reshape(A[i], (d1,d2)).T).flatten()\n",
    "\n",
    "########################## Exploration plan optimization stage - min eigenvalue ################################\n",
    "\n",
    "mu_eig=cp.Variable(N_a, pos=True)\n",
    "X_eig=A.T@ cp.diag(mu_eig) @A\n",
    "\n",
    "constraints_eig = [cp.sum(mu_eig)==1]\n",
    "prob_eig = cp.Problem(cp.Maximize(cp.lambda_min(X_eig)), constraints_eig)\n",
    "prob_eig.solve(solver=cp.MOSEK, verbose=True)\n",
    "\n",
    "print('Set2 Optimization Finished\\n')\n",
    "print('Mu_eig')\n",
    "print(mu_eig.value)\n",
    "dist_eig=mu_eig.value/np.sum(mu_eig.value)\n",
    "print('Cmin')\n",
    "Cmin=prob_eig.value\n",
    "print(1/prob_eig.value)\n",
    "\n",
    "Q_eig=A.T@ np.diag(dist_eig) @A\n",
    "Q_inv_eig=LA.inv(Q_eig)"
   ]
  },
  {
   "cell_type": "code",
   "execution_count": 5,
   "id": "777e4437-c54b-4a60-afc0-00685bf3c3ea",
   "metadata": {},
   "outputs": [
    {
     "name": "stdout",
     "output_type": "stream",
     "text": [
      "===============================================================================\n",
      "                                     CVXPY                                     \n",
      "                                     v1.3.2                                    \n",
      "===============================================================================\n",
      "(CVXPY) Oct 17 12:59:43 AM: Your problem has 171 variables, 3 constraints, and 0 parameters.\n",
      "(CVXPY) Oct 17 12:59:43 AM: It is compliant with the following grammars: DCP, DQCP\n",
      "(CVXPY) Oct 17 12:59:43 AM: (If you need to solve this problem multiple times, but with different data, consider using parameters.)\n",
      "(CVXPY) Oct 17 12:59:43 AM: CVXPY will first compile your problem; then, it will invoke a numerical solver to obtain a solution.\n",
      "-------------------------------------------------------------------------------\n",
      "                                  Compilation                                  \n",
      "-------------------------------------------------------------------------------\n",
      "(CVXPY) Oct 17 12:59:43 AM: Compiling problem (target solver=MOSEK).\n",
      "(CVXPY) Oct 17 12:59:43 AM: Reduction chain: Dcp2Cone -> CvxAttr2Constr -> ConeMatrixStuffing -> MOSEK\n",
      "(CVXPY) Oct 17 12:59:43 AM: Applying reduction Dcp2Cone\n",
      "(CVXPY) Oct 17 12:59:43 AM: Applying reduction CvxAttr2Constr\n",
      "(CVXPY) Oct 17 12:59:43 AM: Applying reduction ConeMatrixStuffing\n",
      "(CVXPY) Oct 17 12:59:43 AM: Applying reduction MOSEK\n",
      "(CVXPY) Oct 17 12:59:43 AM: Finished problem compilation (took 3.861e-02 seconds).\n",
      "-------------------------------------------------------------------------------\n",
      "                                Numerical solver                               \n",
      "-------------------------------------------------------------------------------\n",
      "(CVXPY) Oct 17 12:59:43 AM: Invoking solver MOSEK  to obtain a solution.\n",
      "\n",
      "\n",
      "(CVXPY) Oct 17 12:59:43 AM: Problem\n",
      "(CVXPY) Oct 17 12:59:43 AM:   Name                   :                 \n",
      "(CVXPY) Oct 17 12:59:43 AM:   Objective sense        : maximize        \n",
      "(CVXPY) Oct 17 12:59:43 AM:   Type                   : CONIC (conic optimization problem)\n",
      "(CVXPY) Oct 17 12:59:43 AM:   Constraints            : 102             \n",
      "(CVXPY) Oct 17 12:59:43 AM:   Affine conic cons.     : 0               \n",
      "(CVXPY) Oct 17 12:59:43 AM:   Disjunctive cons.      : 0               \n",
      "(CVXPY) Oct 17 12:59:43 AM:   Cones                  : 0               \n",
      "(CVXPY) Oct 17 12:59:43 AM:   Scalar variables       : 18              \n",
      "(CVXPY) Oct 17 12:59:43 AM:   Matrix variables       : 4 (scalarized: 354)\n",
      "(CVXPY) Oct 17 12:59:43 AM:   Integer variables      : 0               \n",
      "(CVXPY) Oct 17 12:59:43 AM: \n",
      "(CVXPY) Oct 17 12:59:43 AM: Optimizer started.\n",
      "(CVXPY) Oct 17 12:59:43 AM: Presolve started.\n",
      "(CVXPY) Oct 17 12:59:43 AM: Linear dependency checker started.\n",
      "(CVXPY) Oct 17 12:59:43 AM: Linear dependency checker terminated.\n",
      "(CVXPY) Oct 17 12:59:43 AM: Eliminator started.\n",
      "(CVXPY) Oct 17 12:59:43 AM: Freed constraints in eliminator : 1\n",
      "(CVXPY) Oct 17 12:59:43 AM: Eliminator terminated.\n",
      "(CVXPY) Oct 17 12:59:43 AM: Eliminator - tries                  : 1                 time                   : 0.00            \n",
      "(CVXPY) Oct 17 12:59:43 AM: Lin. dep.  - tries                  : 1                 time                   : 0.00            \n",
      "(CVXPY) Oct 17 12:59:43 AM: Lin. dep.  - primal attempts        : 1                 successes              : 1               \n",
      "(CVXPY) Oct 17 12:59:43 AM: Lin. dep.  - dual attempts          : 0                 successes              : 0               \n",
      "(CVXPY) Oct 17 12:59:43 AM: Lin. dep.  - primal deps.           : 0                 dual deps.             : 0               \n",
      "(CVXPY) Oct 17 12:59:43 AM: Presolve terminated. Time: 0.00    \n",
      "(CVXPY) Oct 17 12:59:43 AM: Optimizer  - threads                : 12              \n",
      "(CVXPY) Oct 17 12:59:43 AM: Optimizer  - solved problem         : \n",
      "(CVXPY) Oct 17 12:59:43 AM: the primal      \n",
      "(CVXPY) Oct 17 12:59:43 AM: \n",
      "(CVXPY) Oct 17 12:59:43 AM: Optimizer  - Constraints            : 101             \n",
      "(CVXPY) Oct 17 12:59:43 AM: Optimizer  - Cones                  : 1               \n",
      "(CVXPY) Oct 17 12:59:43 AM: Optimizer  - Scalar variables       : 12                conic                  : 2               \n",
      "(CVXPY) Oct 17 12:59:43 AM: Optimizer  - Semi-definite variables: 4                 scalarized             : 354             \n",
      "(CVXPY) Oct 17 12:59:43 AM: Factor     - setup time             : 0.00            \n",
      "(CVXPY) Oct 17 12:59:43 AM: Factor     - dense det. time        : 0.00              GP order time          : 0.00            \n",
      "(CVXPY) Oct 17 12:59:43 AM: Factor     - nonzeros before factor : 2952              after factor           : 3006            \n",
      "(CVXPY) Oct 17 12:59:43 AM: Factor     - dense dim.             : 0                 flops                  : 1.41e+05        \n",
      "(CVXPY) Oct 17 12:59:43 AM: ITE PFEAS    DFEAS    GFEAS    PRSTATUS   POBJ              DOBJ              MU       TIME  \n",
      "(CVXPY) Oct 17 12:59:43 AM: 0   3.0e+00  1.0e+00  1.0e+00  0.00e+00   -0.000000000e+00  -0.000000000e+00  1.0e+00  0.00  \n",
      "(CVXPY) Oct 17 12:59:43 AM: 1   9.6e-01  3.2e-01  4.1e-01  -6.40e-01  7.678808055e+00   6.735775850e+00   3.2e-01  0.01  \n",
      "(CVXPY) Oct 17 12:59:43 AM: 2   1.1e-01  3.6e-02  5.1e-02  -2.17e-01  2.282955151e+01   2.107180333e+01   3.6e-02  0.01  \n",
      "(CVXPY) Oct 17 12:59:43 AM: 3   2.0e-02  6.7e-03  1.1e-02  -9.58e-02  4.473023363e+01   4.206588456e+01   6.7e-03  0.01  \n",
      "(CVXPY) Oct 17 12:59:43 AM: 4   6.3e-03  2.1e-03  3.9e-03  -1.22e-01  6.977590825e+01   6.634924968e+01   2.1e-03  0.01  \n",
      "(CVXPY) Oct 17 12:59:43 AM: 5   1.9e-03  6.4e-04  1.1e-03  5.75e-02   9.532886445e+01   9.236947404e+01   6.4e-04  0.01  \n",
      "(CVXPY) Oct 17 12:59:43 AM: 6   9.8e-04  3.3e-04  6.2e-04  -4.12e-02  1.198708854e+02   1.163595637e+02   3.3e-04  0.01  \n",
      "(CVXPY) Oct 17 12:59:43 AM: 7   3.4e-04  1.1e-04  1.9e-04  7.51e-02   1.564227195e+02   1.535588612e+02   1.1e-04  0.01  \n",
      "(CVXPY) Oct 17 12:59:43 AM: 8   1.9e-04  6.4e-05  1.2e-04  -6.52e-02  1.873614290e+02   1.836112885e+02   6.4e-05  0.01  \n",
      "(CVXPY) Oct 17 12:59:43 AM: 9   6.4e-05  2.1e-05  3.9e-05  6.15e-03   2.520819302e+02   2.488223863e+02   2.1e-05  0.01  \n",
      "(CVXPY) Oct 17 12:59:43 AM: 10  3.4e-05  1.1e-05  2.4e-05  -9.22e-02  3.003878746e+02   2.958339791e+02   1.1e-05  0.01  \n",
      "(CVXPY) Oct 17 12:59:43 AM: 11  1.1e-05  3.8e-06  7.8e-06  -5.61e-02  4.100989871e+02   4.058460365e+02   3.8e-06  0.01  \n",
      "(CVXPY) Oct 17 12:59:43 AM: 12  5.5e-06  1.8e-06  4.7e-06  -1.79e-01  4.941628618e+02   4.876700662e+02   1.8e-06  0.01  \n",
      "(CVXPY) Oct 17 12:59:43 AM: 13  1.7e-06  5.6e-07  1.4e-06  -1.05e-01  6.982273691e+02   6.918624233e+02   5.6e-07  0.02  \n",
      "(CVXPY) Oct 17 12:59:43 AM: 14  6.4e-07  2.1e-07  5.9e-07  -7.85e-02  8.282131623e+02   8.206246795e+02   2.1e-07  0.02  \n",
      "(CVXPY) Oct 17 12:59:43 AM: 15  2.2e-07  7.5e-08  1.8e-07  1.37e-01   1.014406815e+03   1.008483055e+03   7.5e-08  0.02  \n",
      "(CVXPY) Oct 17 12:59:43 AM: 16  1.2e-07  3.9e-08  9.7e-08  1.33e-01   1.137424739e+03   1.131121598e+03   3.9e-08  0.02  \n",
      "(CVXPY) Oct 17 12:59:43 AM: 17  3.4e-08  1.1e-08  2.0e-08  4.12e-01   1.326526712e+03   1.323236615e+03   1.1e-08  0.02  \n",
      "(CVXPY) Oct 17 12:59:43 AM: 18  1.6e-08  5.2e-09  8.3e-09  4.34e-01   1.407984098e+03   1.405409726e+03   5.2e-09  0.02  \n",
      "(CVXPY) Oct 17 12:59:43 AM: 19  3.9e-09  1.3e-09  1.2e-09  7.34e-01   1.493731134e+03   1.492898348e+03   1.3e-09  0.02  \n",
      "(CVXPY) Oct 17 12:59:43 AM: 20  1.2e-09  4.1e-10  2.4e-10  8.20e-01   1.520297143e+03   1.519971889e+03   4.1e-10  0.02  \n",
      "(CVXPY) Oct 17 12:59:43 AM: 21  4.5e-11  1.5e-11  1.7e-12  9.65e-01   1.533845762e+03   1.533833250e+03   1.5e-11  0.02  \n",
      "(CVXPY) Oct 17 12:59:43 AM: 22  2.3e-12  9.5e-13  2.0e-14  9.98e-01   1.534357897e+03   1.534357244e+03   7.8e-13  0.02  \n",
      "(CVXPY) Oct 17 12:59:43 AM: 23  2.5e-13  8.0e-12  7.0e-16  1.00e+00   1.534383727e+03   1.534383658e+03   8.4e-14  0.02  \n",
      "(CVXPY) Oct 17 12:59:43 AM: 24  2.2e-14  1.1e-10  1.8e-17  1.00e+00   1.534386603e+03   1.534386597e+03   7.3e-15  0.02  \n",
      "(CVXPY) Oct 17 12:59:43 AM: Optimizer terminated. Time: 0.03    \n",
      "(CVXPY) Oct 17 12:59:43 AM: \n",
      "(CVXPY) Oct 17 12:59:43 AM: Interior-point solution summary\n",
      "(CVXPY) Oct 17 12:59:43 AM:   Problem status  : PRIMAL_AND_DUAL_FEASIBLE\n",
      "(CVXPY) Oct 17 12:59:43 AM:   Solution status : OPTIMAL\n",
      "(CVXPY) Oct 17 12:59:43 AM:   Primal.  obj: 1.5343866033e+03    nrm: 2e+05    Viol.\n",
      "(CVXPY) Oct 17 12:59:43 AM:   con: 7e-10  \n",
      "(CVXPY) Oct 17 12:59:43 AM:   var: 0e+00  \n",
      "(CVXPY) Oct 17 12:59:43 AM:   barvar: 0e+00  \n",
      "(CVXPY) Oct 17 12:59:43 AM: \n",
      "(CVXPY) Oct 17 12:59:43 AM:   Dual.    obj: 1.5343865973e+03    nrm: 3e+04    Viol.\n",
      "(CVXPY) Oct 17 12:59:43 AM:   con: 0e+00  \n",
      "(CVXPY) Oct 17 12:59:43 AM:   var: 2e-10  \n",
      "(CVXPY) Oct 17 12:59:43 AM:   barvar: 4e-11  \n",
      "(CVXPY) Oct 17 12:59:43 AM: \n",
      "-------------------------------------------------------------------------------\n",
      "                                    Summary                                    \n",
      "-------------------------------------------------------------------------------\n",
      "(CVXPY) Oct 17 12:59:43 AM: Problem status: optimal\n",
      "(CVXPY) Oct 17 12:59:43 AM: Optimal value: 1.534e+03\n",
      "(CVXPY) Oct 17 12:59:43 AM: Compilation took 3.861e-02 seconds\n",
      "(CVXPY) Oct 17 12:59:43 AM: Solver (including time spent in interface) took 3.592e-02 seconds\n",
      "1534.3865778477777\n"
     ]
    }
   ],
   "source": [
    "mu=cp.Variable(N_a, pos=True)\n",
    "X=A.T@ cp.diag(mu) @A\n",
    "X2= B.T@ cp.diag(mu) @B\n",
    "\n",
    "T = Variable((d, d), symmetric=True)\n",
    "M = bmat([[X, np.eye(d)],\n",
    "          [np.eye(d), T]])\n",
    "Tsum=np.zeros([d2,d2])\n",
    "T2 = Variable((d, d), symmetric=True)\n",
    "M2 = bmat([[X2, np.eye(d)],\n",
    "          [np.eye(d), T2]])\n",
    "constraints = [M>>0, M2 >> 0, cp.sum(mu)==1]\n",
    "Tsum=np.zeros([d2,d2])\n",
    "Tsum2=np.zeros([d1,d1])\n",
    "for i in range(0,d1):\n",
    "    Tsum=Tsum+T[d2*i:d2*(i+1), :][:,d2*i:d2*(i+1)]\n",
    "for j in range(0,d2):\n",
    "    Tsum2=Tsum2+T2[d1*i:d1*(i+1), :][:,d1*i:d1*(i+1)]\n",
    "objective = cp.Minimize(cp.maximum(cp.lambda_max(Tsum), cp.lambda_max(Tsum2)))\n",
    "\n",
    "prob=cp.Problem(objective, constraints)\n",
    "prob.solve(solver=cp.MOSEK,verbose=True)\n",
    "\n",
    "dist_our=mu.value/np.sum(mu.value)\n",
    "Bmin=prob.value\n",
    "print(prob.value)\n",
    "\n",
    "\n",
    "Q=A.T@ np.diag(dist_our) @A\n",
    "Q_inv=LA.inv(Q)"
   ]
  },
  {
   "cell_type": "code",
   "execution_count": 11,
   "id": "86590dbf-8d9d-480d-98a9-91ae6edb7597",
   "metadata": {},
   "outputs": [
    {
     "name": "stdout",
     "output_type": "stream",
     "text": [
      "=====Repetition for total time 10000=====\n"
     ]
    },
    {
     "name": "stderr",
     "output_type": "stream",
     "text": [
      "/var/folders/rw/6k0q0dlj29qcgf6thm85nsvc0000gn/T/ipykernel_94549/1151793174.py:79: ComplexWarning: Casting complex values to real discards the imaginary part\n",
      "  hist_esti[i*repeative+rep]=theta_hat\n",
      "/var/folders/rw/6k0q0dlj29qcgf6thm85nsvc0000gn/T/ipykernel_94549/1151793174.py:114: ComplexWarning: Casting complex values to real discards the imaginary part\n",
      "  hist_esti_eig_thr[i*repeative+rep]=theta_eig_thr_hat\n"
     ]
    },
    {
     "name": "stdout",
     "output_type": "stream",
     "text": [
      "=====Repetition for total time 20000=====\n",
      "=====Repetition for total time 30000=====\n",
      "=====Repetition for total time 40000=====\n",
      "=====Repetition for total time 50000=====\n",
      "=====Repetition for total time 60000=====\n",
      "=====Repetition for total time 70000=====\n",
      "=====Repetition for total time 80000=====\n",
      "=====Repetition for total time 90000=====\n",
      "=====Repetition for total time 100000=====\n"
     ]
    }
   ],
   "source": [
    "T0=args.T_min                                   # Initial number of samples for regression\n",
    "repeative=args.repeat                           # How many times we repeat the same setting\n",
    "howlong=args.howlong                            # How many cases of 'number of samples' we want to observe.\n",
    "                                                # For example, if T_min=1000 and howlong=3,\n",
    "                                                # we check the cases of T=1000,2000,3000\n",
    "wholelength=repeative*howlong                   # The maximum number of the experiments\n",
    "sigma=args.sigma                                # Variance of the noise\n",
    "\n",
    "\n",
    "hist_true=np.zeros((wholelength,d))             #history of true theta, true hidden parameters\n",
    "\n",
    "hist_esti=np.zeros((wholelength,d))             #history of the estimated theta by our method\n",
    "hist_esti_raw=np.zeros((wholelength,d))         #history of the estimated theta by our method before thresholding\n",
    "errors=np.zeros(howlong)                        #l1 error between true and our estimation\n",
    "all_error=np.zeros(wholelength)                 #history of the error of all experiments. Used it for measuring variance\n",
    "vari_our=np.zeros(howlong)                      #history of the variance of the l1 norm difference\n",
    "time_our=np.zeros(wholelength)\n",
    "\n",
    "hist_esti_eig_nuc=np.zeros((wholelength,d))         #history of the estimated theta by nuc's method\n",
    "errors_eig_nuc=np.zeros(howlong)                    #l1 error between true and nuc's estimation\n",
    "all_error_eig_nuc=np.zeros(wholelength)             #history of the error of all experiments with nuc's setting. Used it for measuring variance\n",
    "vari_eig_nuc=np.zeros(howlong)                      #history of the variance of the l1 norm difference in nuc's setting\n",
    "time_eig_nuc=np.zeros(wholelength)\n",
    "\n",
    "\n",
    "hist_esti_our_nuc=np.zeros((wholelength,d))         #history of the estimated theta by nuc's method\n",
    "errors_our_nuc=np.zeros(howlong)                    #l1 error between true and nuc's estimation\n",
    "all_error_our_nuc=np.zeros(wholelength)             #history of the error of all experiments with nuc's setting. Used it for measuring variance\n",
    "vari_our_nuc=np.zeros(howlong)                      #history of the variance of the l1 norm difference in nuc's setting\n",
    "time_our_nuc=np.zeros(wholelength)\n",
    "\n",
    "\n",
    "hist_esti_eig_thr=np.zeros((wholelength,d))         #history of the estimated theta by nuc's method\n",
    "errors_eig_thr=np.zeros(howlong)                    #l1 error between true and nuc's estimation\n",
    "all_error_eig_thr=np.zeros(wholelength)             #history of the error of all experiments with nuc's setting. Used it for measuring variance\n",
    "vari_eig_thr=np.zeros(howlong)                      #history of the variance of the l1 norm difference in nuc's setting\n",
    "time_eig_thr=np.zeros(wholelength)\n",
    "\n",
    "\n",
    "\n",
    "\n",
    "for i in range(0,howlong):\n",
    "    T0=T0+args.inc\n",
    "    print('=====Repetition for total time %d=====' % (T0))\n",
    "    for rep in range(0,repeative):\n",
    "        #setting theta - changes over each experiment\n",
    "        theta_v1 = np.random.normal(0,1,d1)\n",
    "        theta_v1=theta_v1/LA.norm(theta_v1)\n",
    "        theta_v2 = np.random.normal(0,1,d2)\n",
    "        theta_v2=theta_v2/LA.norm(theta_v2)\n",
    "        theta = np.matrix.flatten(np.outer(theta_v1, theta_v2))\n",
    "        theta_0 = args.cheat*theta\n",
    "        a_true=A[np.argmax(A@theta)]\n",
    "        S=np.max(np.abs(A@theta))\n",
    "\n",
    "        \n",
    "        #Experiment 1: PopArt experiment\n",
    "        S_0=np.max(np.abs(A@(theta-theta_0)))\n",
    "        nu_our = np.sqrt(2*np.log(2*np.max((d1,d2))/delta)/Bmin/T0)/(S_0+sigma)\n",
    "        nu_eig = np.sqrt(2*Cmin*np.log(2*np.max((d1,d2))/delta)/np.max((d1,d2))/T0)/(S_0+sigma)\n",
    "        \n",
    "        threshold_our = np.sqrt(2*Bmin*np.log((d1+d2)/delta)/T0)\n",
    "        threshold_eig = np.sqrt(2*(d1+d2)*np.log((d1+d2)/delta)/Cmin/T0)\n",
    "        hist_true[i*repeative+rep]=theta\n",
    "        X_hist=np.zeros((T0,d))\n",
    "        X_hist_eig=np.zeros((T0,d))\n",
    "        \n",
    "        hist_our_nuc=np.zeros((T0, d))                        #temporary history for the action of nuc's method, since it computes LASSO optimization\n",
    "        r_our_nuc=np.zeros(T0)                                #temporary history for the reward\n",
    "\n",
    "        for t in range(0,T0):\n",
    "            act_t=A[np.random.choice(N_a, p=dist_our)]\n",
    "            hist_our_nuc[t]=act_t\n",
    "            r=theta@act_t+np.random.normal(0,sigma)\n",
    "            r_our_nuc[t]=r\n",
    "            X_hist[t]=(r-act_t@theta_0)*(Q_inv@act_t)+theta_0\n",
    "        theta_1=matrix_catoni(X_hist,T0,d1,d2,nu_our)\n",
    "        theta_hat=np.matrix.flatten(thresholding(theta_1, threshold_our))\n",
    "        hist_esti[i*repeative+rep]=theta_hat\n",
    "        all_error[i*repeative+rep]=LA.norm((theta-theta_hat).reshape((d1,d2)),'nuc')\n",
    "        errors[i]+=LA.norm((theta-theta_hat).reshape((d1,d2)),'nuc')/repeative\n",
    "\n",
    "        beta_our_nuc = cp.Variable(d)\n",
    "        lambd_our_nuc = (sigma+S)*np.sqrt(np.log(d1+d2) * T0)\n",
    "        lassosol_our_nuc = cp.Problem(cp.Minimize(objective_fn(hist_our_nuc, r_our_nuc, beta_our_nuc, lambd_our_nuc,d1, d2)))\n",
    "        lassosol_our_nuc.solve()\n",
    "        beta_our_nuc_hat = beta_our_nuc.value\n",
    "        hist_esti_our_nuc[i*repeative+rep]=beta_our_nuc_hat\n",
    "        errors_our_nuc[i]+=LA.norm((theta-beta_our_nuc_hat).reshape((d1,d2)),'nuc')/repeative\n",
    "        all_error_our_nuc[i*repeative+rep]=LA.norm((theta-beta_our_nuc_hat).reshape((d1,d2)),'nuc')\n",
    "        \n",
    "        #a_hat=A[np.argmax(A@theta_hat)]\n",
    "\n",
    "        #Experiment 2 - Nuclear norm regularized setting experiment\n",
    "        hist_b=np.zeros((T0, d))                        #temporary history for the action of nuc's method, since it computes LASSO optimization\n",
    "        r_b=np.zeros(T0)                                #temporary history for the reward\n",
    "        for t in range(0,T0):\n",
    "            act_h_t = A[np.random.choice(N_a, p=dist_eig)]\n",
    "            hist_b[t]=act_h_t\n",
    "            r_b[t] = theta @ act_h_t + np.random.normal(0, sigma)\n",
    "            X_hist_eig[t]=(r_b[t]-act_h_t@theta_0)*(Q_inv_eig@act_h_t)+theta_0\n",
    "        beta = cp.Variable(d)\n",
    "        lambd_b = (sigma+S)*np.sqrt(np.log(d1+d2) * T0)\n",
    "        lassosol = cp.Problem(cp.Minimize(objective_fn(hist_b, r_b, beta, lambd_b,d1, d2)))\n",
    "        lassosol.solve()\n",
    "        beta_hat = beta.value\n",
    "        hist_esti_eig_nuc[i*repeative+rep]=beta_hat\n",
    "        errors_eig_nuc[i]+=LA.norm((theta-beta_hat).reshape((d1,d2)),'nuc')/repeative\n",
    "        all_error_eig_nuc[i*repeative+rep]=LA.norm((theta-beta_hat).reshape((d1,d2)),'nuc')\n",
    "        #a_hat_h=A[np.argmax(A@beta_hat)]\n",
    "\n",
    "        theta_eig_thr_raw=matrix_catoni(X_hist_eig,T0,d1,d2,nu_eig)\n",
    "        theta_eig_thr_hat=np.matrix.flatten(thresholding(theta_eig_thr_raw, threshold_eig))\n",
    "        hist_esti_eig_thr[i*repeative+rep]=theta_eig_thr_hat\n",
    "        all_error_eig_thr[i*repeative+rep]=LA.norm((theta-theta_eig_thr_hat).reshape((d1,d2)),'nuc')\n",
    "        errors_eig_thr[i]+=LA.norm((theta-theta_eig_thr_hat).reshape((d1,d2)),'nuc')/repeative\n",
    "\n",
    "\n",
    "    vari_our[i]=np.std(all_error[repeative*i:repeative*(i+1)-1])\n",
    "    vari_eig_nuc[i]=np.std(all_error_eig_nuc[repeative*i:repeative*(i+1)-1])\n",
    "    vari_our_nuc[i]=np.std(all_error_our_nuc[repeative*i:repeative*(i+1)-1])\n",
    "    vari_eig_thr[i]=np.std(all_error_eig_thr[repeative*i:repeative*(i+1)-1])\n"
   ]
  },
  {
   "cell_type": "code",
   "execution_count": 6,
   "id": "2c9696f5-f3e9-4152-8d5b-f77ea3797df1",
   "metadata": {},
   "outputs": [],
   "source": [
    "def catoni_indiv(v):\n",
    "    return np.sign(v)*np.log(1+np.abs(v)+v*v/2)"
   ]
  },
  {
   "cell_type": "code",
   "execution_count": 7,
   "id": "875cf61d-6801-4ae1-ad46-6e4ec596aaa0",
   "metadata": {},
   "outputs": [],
   "source": [
    "def symmetrize(X,d1,d2):\n",
    "    X_mat=X.reshape((d1,d2))\n",
    "    return np.block([[np.zeros((d1,d1)), X_mat],[np.transpose(X_mat), np.zeros((d2,d2))]])"
   ]
  },
  {
   "cell_type": "code",
   "execution_count": 8,
   "id": "dff2e021-9367-4b3d-abf4-8c4b915cc74d",
   "metadata": {},
   "outputs": [],
   "source": [
    "def matrix_catoni_one(X,d1,d2, nu):\n",
    "    eigenvalue, eigenvectors = LA.eig(symmetrize(X,d1,d2))\n",
    "    '''\n",
    "    if any(np.iscomplex(eigenvalue)):\n",
    "        print('Eigenvalues:')\n",
    "        print(eigenvalue)\n",
    "        print('Eigenvectors:')\n",
    "        print(eigenvectors)\n",
    "        print('X:')\n",
    "        print(X)\n",
    "    '''\n",
    "    result=eigenvectors@ np.diag(catoni_indiv(nu*eigenvalue)) @eigenvectors.T\n",
    "    return result"
   ]
  },
  {
   "cell_type": "code",
   "execution_count": 9,
   "id": "85bca2ad-63b9-4461-9d01-ea4427bed31d",
   "metadata": {},
   "outputs": [],
   "source": [
    "def matrix_catoni(X,T0,d1,d2, nu):\n",
    "    D=d1+d2\n",
    "    result=np.zeros((D,D))\n",
    "    for i in range(0, T0):\n",
    "        result= result + matrix_catoni_one(X[i],d1,d2,nu)/T0/nu\n",
    "    final_result = result[0:d1, d1:D]\n",
    "    return final_result\n",
    "    \n",
    "    "
   ]
  },
  {
   "cell_type": "code",
   "execution_count": 10,
   "id": "5171bbb0-1ce2-4ccd-9334-70dbf20ad491",
   "metadata": {},
   "outputs": [],
   "source": [
    "def thresholding(X, threshold):\n",
    "    U, S, V=LA.svd(X)\n",
    "    newS=np.diag(np.abs(S)>threshold)*(S)\n",
    "    return (U@newS)@V"
   ]
  },
  {
   "cell_type": "code",
   "execution_count": 14,
   "id": "84dc597a-b7b1-4b05-8348-696ccdd23c01",
   "metadata": {},
   "outputs": [
    {
     "data": {
      "image/png": "[encoded data removed]",
      "text/plain": [
       "<Figure size 640x480 with 1 Axes>"
      ]
     },
     "metadata": {},
     "output_type": "display_data"
    }
   ],
   "source": [
    "import matplotlib.pyplot as plt\n",
    "timeline=np.linspace(args.inc,args.inc*args.howlong,args.howlong)\n",
    "plt.xlabel('Time', fontsize=15)\n",
    "plt.ylabel('Nuclear norm error', fontsize=15)\n",
    "plt.plot(timeline,errors, label='Bmin_LPA (ours)', color='cornflowerblue')\n",
    "plt.errorbar(timeline, errors, vari_our, color='cornflowerblue', alpha=0.5)\n",
    "plt.plot(timeline,errors_eig_nuc, color='bisque', label='Cmin_nuc')\n",
    "plt.errorbar(timeline, errors_eig_nuc, vari_eig_nuc, color='bisque', alpha=0.5)\n",
    "plt.plot(timeline,errors_our_nuc, color='red', label='Bmin_nuc')\n",
    "plt.errorbar(timeline, errors_our_nuc, vari_our_nuc, color='red', alpha=0.5)\n",
    "plt.plot(timeline,errors_eig_thr, color='green', label='Cmin_LPA')\n",
    "plt.errorbar(timeline, errors_eig_thr, vari_eig_thr, color='green', alpha=0.5)\n",
    "\n",
    "plt.legend(fontsize=12, framealpha=0.1)\n",
    "plt.savefig('hard_experiment.png')\n",
    "plt.show()"
   ]
  },
  {
   "cell_type": "code",
   "execution_count": null,
   "id": "8ce5a3e2-c3d4-49e9-855d-3ef98e21f9f3",
   "metadata": {},
   "outputs": [],
   "source": [
    "errors_eig_thr"
   ]
  },
  {
   "cell_type": "code",
   "execution_count": null,
   "id": "7ffa4d2d-cce1-4eec-b7d2-c81b6d1c30f0",
   "metadata": {},
   "outputs": [],
   "source": [
    "LA.norm(hist_true[50].reshape((d1,d2)), 'nuc')"
   ]
  },
  {
   "cell_type": "code",
   "execution_count": 18,
   "id": "11c15847-23ac-4092-9569-2d6fc55d7164",
   "metadata": {},
   "outputs": [
    {
     "data": {
      "text/plain": [
       "array([-0.02005408,  0.10444193,  0.24785658, -0.1890456 , -0.03120811,\n",
       "       -0.04165719,  0.21695116,  0.51485812, -0.39269347, -0.06482679,\n",
       "       -0.00549104,  0.0285974 ,  0.06786599, -0.05176286, -0.00854514,\n",
       "       -0.03244398,  0.16896864,  0.40098829, -0.30584247, -0.05048922,\n",
       "       -0.01655173,  0.0862016 ,  0.20456952, -0.15602961, -0.02575775])"
      ]
     },
     "execution_count": 18,
     "metadata": {},
     "output_type": "execute_result"
    }
   ],
   "source": [
    "theta_eig_thr_hat"
   ]
  },
  {
   "cell_type": "code",
   "execution_count": 17,
   "id": "3e58e8a2-6e26-4869-8c08-b60f1d128297",
   "metadata": {},
   "outputs": [
    {
     "data": {
      "text/plain": [
       "array([-6.17402294e-04,  9.51757006e-02,  2.07480401e-01, -1.86758111e-01,\n",
       "       -2.40042844e-02, -1.36313573e-03,  2.10134299e-01,  4.58086972e-01,\n",
       "       -4.12335129e-01, -5.29980177e-02, -3.45799492e-04,  5.33067487e-02,\n",
       "        1.16207241e-01, -1.04600940e-01, -1.34445068e-02, -1.14087526e-03,\n",
       "        1.75871718e-01,  3.83395492e-01, -3.45103527e-01, -4.43566448e-02,\n",
       "       -8.32369097e-04,  1.28313926e-01,  2.79720816e-01, -2.51783451e-01,\n",
       "       -3.23620834e-02])"
      ]
     },
     "execution_count": 17,
     "metadata": {},
     "output_type": "execute_result"
    }
   ],
   "source": [
    "theta"
   ]
  },
  {
   "cell_type": "code",
   "execution_count": 25,
   "id": "bebafb35-5366-47a5-ab0d-654e20c34e61",
   "metadata": {},
   "outputs": [
    {
     "data": {
      "text/plain": [
       "0.025379663704752115"
      ]
     },
     "execution_count": 25,
     "metadata": {},
     "output_type": "execute_result"
    }
   ],
   "source": [
    "Cmin"
   ]
  },
  {
   "cell_type": "code",
   "execution_count": 29,
   "id": "e57d9c68-003b-4908-9dd1-f87f850d50fd",
   "metadata": {},
   "outputs": [
    {
     "data": {
      "text/plain": [
       "0.0010151865481900846"
      ]
     },
     "execution_count": 29,
     "metadata": {},
     "output_type": "execute_result"
    }
   ],
   "source": [
    "Cmin/d"
   ]
  },
  {
   "cell_type": "code",
   "execution_count": 36,
   "id": "9022480d-b479-4da6-8238-ce11c7b10833",
   "metadata": {},
   "outputs": [
    {
     "data": {
      "text/plain": [
       "array([[ 0.05069593,  0.17542905, -0.04567316, -0.01512584, -0.04365961],\n",
       "       [-0.27999022, -0.12869112,  0.22325245,  0.21434523,  0.11480653],\n",
       "       [ 0.33360193,  0.17140612, -0.37069444, -0.14964351, -0.16087806],\n",
       "       [-0.29685493, -0.27840933,  0.35387279,  0.15497944,  0.1609527 ],\n",
       "       [ 0.2551975 ,  0.11157018, -0.28052154, -0.11236922, -0.14201917]])"
      ]
     },
     "execution_count": 36,
     "metadata": {},
     "output_type": "execute_result"
    }
   ],
   "source": [
    "theta_eig_thr_raw"
   ]
  },
  {
   "cell_type": "code",
   "execution_count": 37,
   "id": "7503b782-427f-4c21-bbfd-699371f3e379",
   "metadata": {},
   "outputs": [
    {
     "data": {
      "text/plain": [
       "array([ 0.07855586,  0.05059311, -0.08369642, -0.04172563, -0.03947957,\n",
       "       -0.25036345, -0.16124407,  0.26674681,  0.13298272,  0.12582438,\n",
       "        0.32395346,  0.20863898, -0.34515243, -0.1720707 , -0.16280828,\n",
       "       -0.32950244, -0.21221274,  0.35106452,  0.17501809,  0.16559701,\n",
       "        0.24540604,  0.1580513 , -0.261465  , -0.13034955, -0.12333295])"
      ]
     },
     "execution_count": 37,
     "metadata": {},
     "output_type": "execute_result"
    }
   ],
   "source": [
    "theta_eig_thr_hat"
   ]
  },
  {
   "cell_type": "code",
   "execution_count": 38,
   "id": "e557a97f-3542-40e1-8bec-f5500747e34f",
   "metadata": {},
   "outputs": [
    {
     "data": {
      "text/plain": [
       "array([ 0.08538707,  0.05446218, -0.08016523, -0.05098358, -0.04702032,\n",
       "       -0.25446961, -0.16230758,  0.23890753,  0.15194069,  0.14012945,\n",
       "        0.32868343,  0.20964316, -0.30858281, -0.19625286, -0.18099697,\n",
       "       -0.31240416, -0.1992598 ,  0.2932991 ,  0.18653271,  0.17203243,\n",
       "        0.24806708,  0.15822388, -0.23289655, -0.14811782, -0.13660376])"
      ]
     },
     "execution_count": 38,
     "metadata": {},
     "output_type": "execute_result"
    }
   ],
   "source": [
    "theta"
   ]
  },
  {
   "cell_type": "code",
   "execution_count": 53,
   "id": "074ba6cf-ea75-4ed3-bf7c-c7de60fed8f6",
   "metadata": {},
   "outputs": [
    {
     "data": {
      "text/plain": [
       "array([[-9.39545434e-15,  0.00000000e+00,  0.00000000e+00, ...,\n",
       "        -3.75818174e-14, -7.51636347e-14, -5.63727261e-14],\n",
       "       [ 1.90614397e-01, -9.53071987e-01, -9.53071987e-01, ...,\n",
       "        -9.53071987e-01, -9.53071987e-01, -9.53071987e-01],\n",
       "       [-6.97438177e-15,  2.86330441e-14,  3.69515305e-14, ...,\n",
       "         1.59796353e-15,  3.67758511e-15,  5.75720670e-15],\n",
       "       ...,\n",
       "       [ 4.59953342e-01, -2.29976671e+00, -2.29976671e+00, ...,\n",
       "        -2.29976671e+00, -2.29976671e+00, -2.29976671e+00],\n",
       "       [-4.56546847e-15,  1.94547032e-14, -7.52641031e-15, ...,\n",
       "         2.22217282e+02, -4.79980805e-14, -3.11348846e-14],\n",
       "       [ 1.60927654e+00, -8.04638269e+00, -8.04638269e+00, ...,\n",
       "        -8.04638269e+00, -8.04638269e+00, -8.04638269e+00]])"
      ]
     },
     "execution_count": 53,
     "metadata": {},
     "output_type": "execute_result"
    }
   ],
   "source": [
    "X_hist"
   ]
  },
  {
   "cell_type": "code",
   "execution_count": 82,
   "id": "742f4c76-2045-4fa8-8e3b-e2fb4a685d32",
   "metadata": {},
   "outputs": [
    {
     "data": {
      "text/plain": [
       "array([1.0275879 , 1.03116073, 1.04418135, 1.06226052, 1.05240284,\n",
       "       1.02875842, 1.05479029, 1.06241946, 1.04059061, 1.04534118])"
      ]
     },
     "execution_count": 82,
     "metadata": {},
     "output_type": "execute_result"
    }
   ],
   "source": [
    "errors_eig_nuc"
   ]
  },
  {
   "cell_type": "code",
   "execution_count": 15,
   "id": "f9c8670a-6d9a-4ad7-839d-4dbac3176811",
   "metadata": {},
   "outputs": [],
   "source": [
    "XX=np.array([-0.75984947,  3.79924734,  3.79924734,  3.79924734,  3.79924734,  3.79924734,\n",
    "  3.79924734,  3.79924734,  3.79924734,  3.79924734,  3.79924734,  3.79924734,\n",
    "  3.79924734,  3.79924734,  3.79924734,  3.79924734,  3.79924734,  3.79924734,\n",
    "  3.79924734,  3.79924734,  3.79924734,  3.79924734,  3.79924734,  3.79924734,\n",
    "  3.79924734])"
   ]
  },
  {
   "cell_type": "code",
   "execution_count": 16,
   "id": "ea70e4bf-2e1c-4a45-b49d-2af66901cd42",
   "metadata": {},
   "outputs": [
    {
     "data": {
      "text/plain": [
       "array([[ 0.        ,  0.        ,  0.        ,  0.        ,  0.        ,\n",
       "        -0.75984947,  3.79924734,  3.79924734,  3.79924734,  3.79924734],\n",
       "       [ 0.        ,  0.        ,  0.        ,  0.        ,  0.        ,\n",
       "         3.79924734,  3.79924734,  3.79924734,  3.79924734,  3.79924734],\n",
       "       [ 0.        ,  0.        ,  0.        ,  0.        ,  0.        ,\n",
       "         3.79924734,  3.79924734,  3.79924734,  3.79924734,  3.79924734],\n",
       "       [ 0.        ,  0.        ,  0.        ,  0.        ,  0.        ,\n",
       "         3.79924734,  3.79924734,  3.79924734,  3.79924734,  3.79924734],\n",
       "       [ 0.        ,  0.        ,  0.        ,  0.        ,  0.        ,\n",
       "         3.79924734,  3.79924734,  3.79924734,  3.79924734,  3.79924734],\n",
       "       [-0.75984947,  3.79924734,  3.79924734,  3.79924734,  3.79924734,\n",
       "         0.        ,  0.        ,  0.        ,  0.        ,  0.        ],\n",
       "       [ 3.79924734,  3.79924734,  3.79924734,  3.79924734,  3.79924734,\n",
       "         0.        ,  0.        ,  0.        ,  0.        ,  0.        ],\n",
       "       [ 3.79924734,  3.79924734,  3.79924734,  3.79924734,  3.79924734,\n",
       "         0.        ,  0.        ,  0.        ,  0.        ,  0.        ],\n",
       "       [ 3.79924734,  3.79924734,  3.79924734,  3.79924734,  3.79924734,\n",
       "         0.        ,  0.        ,  0.        ,  0.        ,  0.        ],\n",
       "       [ 3.79924734,  3.79924734,  3.79924734,  3.79924734,  3.79924734,\n",
       "         0.        ,  0.        ,  0.        ,  0.        ,  0.        ]])"
      ]
     },
     "execution_count": 16,
     "metadata": {},
     "output_type": "execute_result"
    }
   ],
   "source": [
    "symmetrize(XX,d1,d2)"
   ]
  },
  {
   "cell_type": "code",
   "execution_count": 17,
   "id": "54de933c-3f3d-4715-82af-51c8444b64cb",
   "metadata": {},
   "outputs": [],
   "source": [
    "egv,egvec=LA.eig(symmetrize(XX,d1,d2))"
   ]
  },
  {
   "cell_type": "code",
   "execution_count": 18,
   "id": "7c00532f-1e5d-47fa-a81f-c9b72a4bc5db",
   "metadata": {},
   "outputs": [
    {
     "data": {
      "text/plain": [
       "False"
      ]
     },
     "execution_count": 18,
     "metadata": {},
     "output_type": "execute_result"
    }
   ],
   "source": [
    "any(np.iscomplex(egv))"
   ]
  },
  {
   "cell_type": "code",
   "execution_count": 15,
   "id": "8d423da3-602e-4efb-af37-391f1dbb5ccb",
   "metadata": {},
   "outputs": [
    {
     "data": {
      "text/plain": [
       "1.7896264826204007"
      ]
     },
     "execution_count": 15,
     "metadata": {},
     "output_type": "execute_result"
    }
   ],
   "source": [
    "threshold_our"
   ]
  },
  {
   "cell_type": "code",
   "execution_count": 16,
   "id": "57de440f-c71e-44e8-809f-b91a625e90a4",
   "metadata": {},
   "outputs": [
    {
     "data": {
      "text/plain": [
       "4.786986447091348"
      ]
     },
     "execution_count": 16,
     "metadata": {},
     "output_type": "execute_result"
    }
   ],
   "source": [
    "threshold_eig"
   ]
  },
  {
   "cell_type": "code",
   "execution_count": 3,
   "id": "f0ef8638-ef87-4486-99bb-c9ddf6b21d69",
   "metadata": {},
   "outputs": [
    {
     "data": {
      "text/plain": [
       "2"
      ]
     },
     "execution_count": 3,
     "metadata": {},
     "output_type": "execute_result"
    }
   ],
   "source": [
    "np.max([1,2])"
   ]
  },
  {
   "cell_type": "code",
   "execution_count": 1,
   "id": "cdc0a63f-232b-4021-a813-8535f5d2daf4",
   "metadata": {},
   "outputs": [
    {
     "ename": "NameError",
     "evalue": "name 'A' is not defined",
     "output_type": "error",
     "traceback": [
      "\u001b[0;31m---------------------------------------------------------------------------\u001b[0m",
      "\u001b[0;31mNameError\u001b[0m                                 Traceback (most recent call last)",
      "Cell \u001b[0;32mIn[1], line 1\u001b[0m\n\u001b[0;32m----> 1\u001b[0m \u001b[43mA\u001b[49m[\u001b[38;5;241m1\u001b[39m]\n",
      "\u001b[0;31mNameError\u001b[0m: name 'A' is not defined"
     ]
    }
   ],
   "source": []
  },
  {
   "cell_type": "code",
   "execution_count": null,
   "id": "138efaea-8126-456f-9d0b-ece8818eabc7",
   "metadata": {},
   "outputs": [],
   "source": []
  }
 ],
 "metadata": {
  "kernelspec": {
   "display_name": "Python 3 (ipykernel)",
   "language": "python",
   "name": "python3"
  },
  "language_info": {
   "codemirror_mode": {
    "name": "ipython",
    "version": 3
   },
   "file_extension": ".py",
   "mimetype": "text/x-python",
   "name": "python",
   "nbconvert_exporter": "python",
   "pygments_lexer": "ipython3",
   "version": "3.11.4"
  }
 },
 "nbformat": 4,
 "nbformat_minor": 5
}
